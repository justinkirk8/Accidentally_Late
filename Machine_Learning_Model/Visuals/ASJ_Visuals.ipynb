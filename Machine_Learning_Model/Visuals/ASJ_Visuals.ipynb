{
 "cells": [
  {
   "cell_type": "code",
   "execution_count": 1,
   "id": "b2781935",
   "metadata": {},
   "outputs": [],
   "source": [
    "import warnings\n",
    "warnings.filterwarnings('ignore')"
   ]
  },
  {
   "cell_type": "code",
   "execution_count": 2,
   "id": "759e095b",
   "metadata": {},
   "outputs": [],
   "source": [
    "import numpy as np\n",
    "import pandas as pd\n",
    "from pathlib import Path\n",
    "from collections import Counter"
   ]
  },
  {
   "cell_type": "code",
   "execution_count": 3,
   "id": "c3a0e1dc",
   "metadata": {},
   "outputs": [],
   "source": [
    "from sklearn.metrics import balanced_accuracy_score\n",
    "from sklearn.metrics import confusion_matrix\n",
    "from imblearn.metrics import classification_report_imbalanced"
   ]
  },
  {
   "cell_type": "code",
   "execution_count": 4,
   "id": "cd61fd2c",
   "metadata": {},
   "outputs": [
    {
     "data": {
      "text/html": [
       "<div>\n",
       "<style scoped>\n",
       "    .dataframe tbody tr th:only-of-type {\n",
       "        vertical-align: middle;\n",
       "    }\n",
       "\n",
       "    .dataframe tbody tr th {\n",
       "        vertical-align: top;\n",
       "    }\n",
       "\n",
       "    .dataframe thead th {\n",
       "        text-align: right;\n",
       "    }\n",
       "</style>\n",
       "<table border=\"1\" class=\"dataframe\">\n",
       "  <thead>\n",
       "    <tr style=\"text-align: right;\">\n",
       "      <th></th>\n",
       "      <th>severity</th>\n",
       "      <th>state_code</th>\n",
       "      <th>region</th>\n",
       "      <th>division</th>\n",
       "      <th>temperature_f</th>\n",
       "      <th>visibility_mi</th>\n",
       "      <th>wind_speed_mph</th>\n",
       "      <th>precipitation_in</th>\n",
       "      <th>weather_condition</th>\n",
       "      <th>sunrise_sunset</th>\n",
       "      <th>year</th>\n",
       "      <th>date</th>\n",
       "      <th>classification</th>\n",
       "    </tr>\n",
       "  </thead>\n",
       "  <tbody>\n",
       "    <tr>\n",
       "      <th>0</th>\n",
       "      <td>short_delay</td>\n",
       "      <td>CA</td>\n",
       "      <td>West</td>\n",
       "      <td>Pacific</td>\n",
       "      <td>76.0</td>\n",
       "      <td>10.0</td>\n",
       "      <td>9.0</td>\n",
       "      <td>0.0</td>\n",
       "      <td>clear_weather</td>\n",
       "      <td>Day</td>\n",
       "      <td>2019</td>\n",
       "      <td>2019-06-27</td>\n",
       "      <td>PreCOVID</td>\n",
       "    </tr>\n",
       "    <tr>\n",
       "      <th>1</th>\n",
       "      <td>short_delay</td>\n",
       "      <td>OR</td>\n",
       "      <td>West</td>\n",
       "      <td>Pacific</td>\n",
       "      <td>67.0</td>\n",
       "      <td>10.0</td>\n",
       "      <td>0.0</td>\n",
       "      <td>0.0</td>\n",
       "      <td>clear_weather</td>\n",
       "      <td>Day</td>\n",
       "      <td>2019</td>\n",
       "      <td>2019-06-05</td>\n",
       "      <td>PreCOVID</td>\n",
       "    </tr>\n",
       "    <tr>\n",
       "      <th>2</th>\n",
       "      <td>long_delay</td>\n",
       "      <td>VA</td>\n",
       "      <td>South</td>\n",
       "      <td>South Atlantic</td>\n",
       "      <td>52.0</td>\n",
       "      <td>10.0</td>\n",
       "      <td>8.0</td>\n",
       "      <td>0.0</td>\n",
       "      <td>clear_weather</td>\n",
       "      <td>Day</td>\n",
       "      <td>2019</td>\n",
       "      <td>2019-04-01</td>\n",
       "      <td>PreCOVID</td>\n",
       "    </tr>\n",
       "    <tr>\n",
       "      <th>3</th>\n",
       "      <td>short_delay</td>\n",
       "      <td>CA</td>\n",
       "      <td>West</td>\n",
       "      <td>Pacific</td>\n",
       "      <td>66.0</td>\n",
       "      <td>10.0</td>\n",
       "      <td>6.0</td>\n",
       "      <td>0.0</td>\n",
       "      <td>clear_weather</td>\n",
       "      <td>Night</td>\n",
       "      <td>2019</td>\n",
       "      <td>2019-10-06</td>\n",
       "      <td>PreCOVID</td>\n",
       "    </tr>\n",
       "    <tr>\n",
       "      <th>4</th>\n",
       "      <td>short_delay</td>\n",
       "      <td>CA</td>\n",
       "      <td>West</td>\n",
       "      <td>Pacific</td>\n",
       "      <td>59.0</td>\n",
       "      <td>10.0</td>\n",
       "      <td>0.0</td>\n",
       "      <td>0.0</td>\n",
       "      <td>clear_weather</td>\n",
       "      <td>Night</td>\n",
       "      <td>2020</td>\n",
       "      <td>2020-02-06</td>\n",
       "      <td>PreCOVID</td>\n",
       "    </tr>\n",
       "  </tbody>\n",
       "</table>\n",
       "</div>"
      ],
      "text/plain": [
       "      severity state_code region        division  temperature_f  \\\n",
       "0  short_delay         CA   West         Pacific           76.0   \n",
       "1  short_delay         OR   West         Pacific           67.0   \n",
       "2   long_delay         VA  South  South Atlantic           52.0   \n",
       "3  short_delay         CA   West         Pacific           66.0   \n",
       "4  short_delay         CA   West         Pacific           59.0   \n",
       "\n",
       "   visibility_mi  wind_speed_mph  precipitation_in weather_condition  \\\n",
       "0           10.0             9.0               0.0     clear_weather   \n",
       "1           10.0             0.0               0.0     clear_weather   \n",
       "2           10.0             8.0               0.0     clear_weather   \n",
       "3           10.0             6.0               0.0     clear_weather   \n",
       "4           10.0             0.0               0.0     clear_weather   \n",
       "\n",
       "  sunrise_sunset  year        date classification  \n",
       "0            Day  2019  2019-06-27       PreCOVID  \n",
       "1            Day  2019  2019-06-05       PreCOVID  \n",
       "2            Day  2019  2019-04-01       PreCOVID  \n",
       "3          Night  2019  2019-10-06       PreCOVID  \n",
       "4          Night  2020  2020-02-06       PreCOVID  "
      ]
     },
     "execution_count": 4,
     "metadata": {},
     "output_type": "execute_result"
    }
   ],
   "source": [
    "# Load the data\n",
    "df = pd.read_csv('https://raw.githubusercontent.com/justinkirk8/Accidentally_Late/main/accidents_sample_joined.csv')\n",
    "df.head()"
   ]
  },
  {
   "cell_type": "code",
   "execution_count": 5,
   "id": "1a8ac73c",
   "metadata": {},
   "outputs": [
    {
     "data": {
      "text/plain": [
       "severity              object\n",
       "state_code            object\n",
       "region                object\n",
       "division              object\n",
       "temperature_f        float64\n",
       "visibility_mi        float64\n",
       "wind_speed_mph       float64\n",
       "precipitation_in     float64\n",
       "weather_condition     object\n",
       "sunrise_sunset        object\n",
       "year                   int64\n",
       "date                  object\n",
       "classification        object\n",
       "dtype: object"
      ]
     },
     "execution_count": 5,
     "metadata": {},
     "output_type": "execute_result"
    }
   ],
   "source": [
    "# Check dtypes, features should be float64\n",
    "df.dtypes"
   ]
  },
  {
   "cell_type": "code",
   "execution_count": 6,
   "id": "f02de25b",
   "metadata": {},
   "outputs": [
    {
     "data": {
      "text/plain": [
       "500000"
      ]
     },
     "execution_count": 6,
     "metadata": {},
     "output_type": "execute_result"
    }
   ],
   "source": [
    "# Get the number of rows\n",
    "df.shape[0]"
   ]
  },
  {
   "cell_type": "code",
   "execution_count": 7,
   "id": "167d2e73",
   "metadata": {},
   "outputs": [
    {
     "name": "stdout",
     "output_type": "stream",
     "text": [
      "short_delay    446404\n",
      "long_delay      53596\n",
      "Name: severity, dtype: int64\n"
     ]
    }
   ],
   "source": [
    "# Get count of unique values in the 'Severity' column\n",
    "print(df['severity'].value_counts())"
   ]
  },
  {
   "cell_type": "code",
   "execution_count": 8,
   "id": "2dc1304c",
   "metadata": {},
   "outputs": [
    {
     "data": {
      "image/png": "[encoded data removed]",
      "text/plain": [
       "<Figure size 432x288 with 1 Axes>"
      ]
     },
     "metadata": {
      "needs_background": "light"
     },
     "output_type": "display_data"
    }
   ],
   "source": [
    "import matplotlib.pyplot as plt\n",
    "import seaborn as sns\n",
    "\n",
    "# Plot target, imbalanced dataset\n",
    "target_graph = sns.countplot(df['severity'])\n",
    "target_graph.set_xticklabels(['short_delay', 'long_delay'])\n",
    "plt.show()"
   ]
  },
  {
   "cell_type": "code",
   "execution_count": 9,
   "id": "ccdad6f4",
   "metadata": {},
   "outputs": [
    {
     "name": "stdout",
     "output_type": "stream",
     "text": [
      "CA    175500\n",
      "FL     52755\n",
      "OR     40126\n",
      "MN     24114\n",
      "TX     18629\n",
      "NY     16277\n",
      "VA     14482\n",
      "UT     14440\n",
      "PA     12501\n",
      "SC     11533\n",
      "NC     11286\n",
      "NJ      9392\n",
      "IL      7949\n",
      "MI      7783\n",
      "TN      7225\n",
      "MD      7061\n",
      "AZ      6866\n",
      "GA      6617\n",
      "LA      6446\n",
      "CO      6158\n",
      "WA      5942\n",
      "CT      4645\n",
      "MO      3653\n",
      "AL      2943\n",
      "IN      2723\n",
      "OH      2378\n",
      "MT      1983\n",
      "AR      1831\n",
      "IA      1355\n",
      "WI      1280\n",
      "ID      1267\n",
      "DC      1252\n",
      "WV      1164\n",
      "KS      1152\n",
      "OK       997\n",
      "MA       993\n",
      "NH       986\n",
      "KY       959\n",
      "MS       884\n",
      "RI       845\n",
      "NE       725\n",
      "ME       689\n",
      "DE       688\n",
      "NV       619\n",
      "NM       360\n",
      "ND       235\n",
      "VT       142\n",
      "WY       126\n",
      "SD        44\n",
      "Name: state_code, dtype: int64\n",
      "West         253387\n",
      "South        146752\n",
      "Midwest       53391\n",
      "Northeast     46470\n",
      "Name: region, dtype: int64\n",
      "Pacific               221568\n",
      "South Atlantic        106838\n",
      "Middle Atlantic        38170\n",
      "Mountain               31819\n",
      "West North Central     31278\n",
      "West South Central     27903\n",
      "East North Central     22113\n",
      "East South Central     12011\n",
      "New England             8300\n",
      "Name: division, dtype: int64\n"
     ]
    }
   ],
   "source": [
    "# Get count of unique values in the 'state_code', 'region', 'division'\n",
    "print(df['state_code'].value_counts())\n",
    "print(df['region'].value_counts())\n",
    "print(df['division'].value_counts())"
   ]
  },
  {
   "cell_type": "code",
   "execution_count": 10,
   "id": "3b2173f6",
   "metadata": {},
   "outputs": [
    {
     "data": {
      "text/html": [
       "<div>\n",
       "<style scoped>\n",
       "    .dataframe tbody tr th:only-of-type {\n",
       "        vertical-align: middle;\n",
       "    }\n",
       "\n",
       "    .dataframe tbody tr th {\n",
       "        vertical-align: top;\n",
       "    }\n",
       "\n",
       "    .dataframe thead th {\n",
       "        text-align: right;\n",
       "    }\n",
       "</style>\n",
       "<table border=\"1\" class=\"dataframe\">\n",
       "  <thead>\n",
       "    <tr style=\"text-align: right;\">\n",
       "      <th></th>\n",
       "      <th>severity</th>\n",
       "      <th>region</th>\n",
       "      <th>temperature_f</th>\n",
       "      <th>visibility_mi</th>\n",
       "      <th>wind_speed_mph</th>\n",
       "      <th>precipitation_in</th>\n",
       "      <th>weather_condition</th>\n",
       "      <th>sunrise_sunset</th>\n",
       "      <th>classification</th>\n",
       "    </tr>\n",
       "  </thead>\n",
       "  <tbody>\n",
       "    <tr>\n",
       "      <th>0</th>\n",
       "      <td>short_delay</td>\n",
       "      <td>West</td>\n",
       "      <td>76.0</td>\n",
       "      <td>10.0</td>\n",
       "      <td>9.0</td>\n",
       "      <td>0.0</td>\n",
       "      <td>clear_weather</td>\n",
       "      <td>Day</td>\n",
       "      <td>PreCOVID</td>\n",
       "    </tr>\n",
       "    <tr>\n",
       "      <th>1</th>\n",
       "      <td>short_delay</td>\n",
       "      <td>West</td>\n",
       "      <td>67.0</td>\n",
       "      <td>10.0</td>\n",
       "      <td>0.0</td>\n",
       "      <td>0.0</td>\n",
       "      <td>clear_weather</td>\n",
       "      <td>Day</td>\n",
       "      <td>PreCOVID</td>\n",
       "    </tr>\n",
       "    <tr>\n",
       "      <th>2</th>\n",
       "      <td>long_delay</td>\n",
       "      <td>South</td>\n",
       "      <td>52.0</td>\n",
       "      <td>10.0</td>\n",
       "      <td>8.0</td>\n",
       "      <td>0.0</td>\n",
       "      <td>clear_weather</td>\n",
       "      <td>Day</td>\n",
       "      <td>PreCOVID</td>\n",
       "    </tr>\n",
       "    <tr>\n",
       "      <th>3</th>\n",
       "      <td>short_delay</td>\n",
       "      <td>West</td>\n",
       "      <td>66.0</td>\n",
       "      <td>10.0</td>\n",
       "      <td>6.0</td>\n",
       "      <td>0.0</td>\n",
       "      <td>clear_weather</td>\n",
       "      <td>Night</td>\n",
       "      <td>PreCOVID</td>\n",
       "    </tr>\n",
       "    <tr>\n",
       "      <th>4</th>\n",
       "      <td>short_delay</td>\n",
       "      <td>West</td>\n",
       "      <td>59.0</td>\n",
       "      <td>10.0</td>\n",
       "      <td>0.0</td>\n",
       "      <td>0.0</td>\n",
       "      <td>clear_weather</td>\n",
       "      <td>Night</td>\n",
       "      <td>PreCOVID</td>\n",
       "    </tr>\n",
       "  </tbody>\n",
       "</table>\n",
       "</div>"
      ],
      "text/plain": [
       "      severity region  temperature_f  visibility_mi  wind_speed_mph  \\\n",
       "0  short_delay   West           76.0           10.0             9.0   \n",
       "1  short_delay   West           67.0           10.0             0.0   \n",
       "2   long_delay  South           52.0           10.0             8.0   \n",
       "3  short_delay   West           66.0           10.0             6.0   \n",
       "4  short_delay   West           59.0           10.0             0.0   \n",
       "\n",
       "   precipitation_in weather_condition sunrise_sunset classification  \n",
       "0               0.0     clear_weather            Day       PreCOVID  \n",
       "1               0.0     clear_weather            Day       PreCOVID  \n",
       "2               0.0     clear_weather            Day       PreCOVID  \n",
       "3               0.0     clear_weather          Night       PreCOVID  \n",
       "4               0.0     clear_weather          Night       PreCOVID  "
      ]
     },
     "execution_count": 10,
     "metadata": {},
     "output_type": "execute_result"
    }
   ],
   "source": [
    "# Drop state_code, year, date and division columns\n",
    "df.drop('state_code', axis=1, inplace=True)\n",
    "df.drop('date', axis=1, inplace=True)\n",
    "df.drop('year', axis=1, inplace=True)\n",
    "df.drop('division', axis=1, inplace=True)\n",
    "df.head()"
   ]
  },
  {
   "cell_type": "code",
   "execution_count": 11,
   "id": "69547603",
   "metadata": {},
   "outputs": [
    {
     "name": "stdout",
     "output_type": "stream",
     "text": [
      "clear_weather    422459\n",
      "bad_weather       77541\n",
      "Name: weather_condition, dtype: int64\n",
      "Day      318107\n",
      "Night    181893\n",
      "Name: sunrise_sunset, dtype: int64\n",
      "PreCOVID    250000\n",
      "COVID       250000\n",
      "Name: classification, dtype: int64\n"
     ]
    }
   ],
   "source": [
    "# Get count of unique values in the 'Weather_Condition' column\n",
    "print(df['weather_condition'].value_counts())\n",
    "print(df['sunrise_sunset'].value_counts())\n",
    "print(df['classification'].value_counts())"
   ]
  },
  {
   "cell_type": "code",
   "execution_count": 12,
   "id": "96ce8a35",
   "metadata": {},
   "outputs": [
    {
     "data": {
      "image/png": "[encoded data removed]",
      "text/plain": [
       "<Figure size 432x288 with 1 Axes>"
      ]
     },
     "metadata": {
      "needs_background": "light"
     },
     "output_type": "display_data"
    }
   ],
   "source": [
    "import matplotlib.pyplot as plt\n",
    "import seaborn as sns\n",
    "\n",
    "# Plot classification, balanced and resampled\n",
    "cl_graph = sns.countplot(df['classification'])\n",
    "cl_graph.set_xticklabels(['PreCOVID', 'COVID'])\n",
    "plt.show()"
   ]
  },
  {
   "cell_type": "code",
   "execution_count": 13,
   "id": "c741d9a4",
   "metadata": {
    "scrolled": true
   },
   "outputs": [
    {
     "data": {
      "text/html": [
       "<div>\n",
       "<style scoped>\n",
       "    .dataframe tbody tr th:only-of-type {\n",
       "        vertical-align: middle;\n",
       "    }\n",
       "\n",
       "    .dataframe tbody tr th {\n",
       "        vertical-align: top;\n",
       "    }\n",
       "\n",
       "    .dataframe thead th {\n",
       "        text-align: right;\n",
       "    }\n",
       "</style>\n",
       "<table border=\"1\" class=\"dataframe\">\n",
       "  <thead>\n",
       "    <tr style=\"text-align: right;\">\n",
       "      <th></th>\n",
       "      <th>severity</th>\n",
       "      <th>region</th>\n",
       "      <th>temperature_f</th>\n",
       "      <th>visibility_mi</th>\n",
       "      <th>wind_speed_mph</th>\n",
       "      <th>precipitation_in</th>\n",
       "      <th>weather_condition</th>\n",
       "      <th>sunrise_sunset</th>\n",
       "      <th>classification</th>\n",
       "    </tr>\n",
       "  </thead>\n",
       "  <tbody>\n",
       "    <tr>\n",
       "      <th>0</th>\n",
       "      <td>short_delay</td>\n",
       "      <td>West</td>\n",
       "      <td>76.0</td>\n",
       "      <td>10.0</td>\n",
       "      <td>9.0</td>\n",
       "      <td>0.0</td>\n",
       "      <td>1</td>\n",
       "      <td>1</td>\n",
       "      <td>1</td>\n",
       "    </tr>\n",
       "    <tr>\n",
       "      <th>1</th>\n",
       "      <td>short_delay</td>\n",
       "      <td>West</td>\n",
       "      <td>67.0</td>\n",
       "      <td>10.0</td>\n",
       "      <td>0.0</td>\n",
       "      <td>0.0</td>\n",
       "      <td>1</td>\n",
       "      <td>1</td>\n",
       "      <td>1</td>\n",
       "    </tr>\n",
       "    <tr>\n",
       "      <th>2</th>\n",
       "      <td>long_delay</td>\n",
       "      <td>South</td>\n",
       "      <td>52.0</td>\n",
       "      <td>10.0</td>\n",
       "      <td>8.0</td>\n",
       "      <td>0.0</td>\n",
       "      <td>1</td>\n",
       "      <td>1</td>\n",
       "      <td>1</td>\n",
       "    </tr>\n",
       "    <tr>\n",
       "      <th>3</th>\n",
       "      <td>short_delay</td>\n",
       "      <td>West</td>\n",
       "      <td>66.0</td>\n",
       "      <td>10.0</td>\n",
       "      <td>6.0</td>\n",
       "      <td>0.0</td>\n",
       "      <td>1</td>\n",
       "      <td>0</td>\n",
       "      <td>1</td>\n",
       "    </tr>\n",
       "    <tr>\n",
       "      <th>4</th>\n",
       "      <td>short_delay</td>\n",
       "      <td>West</td>\n",
       "      <td>59.0</td>\n",
       "      <td>10.0</td>\n",
       "      <td>0.0</td>\n",
       "      <td>0.0</td>\n",
       "      <td>1</td>\n",
       "      <td>0</td>\n",
       "      <td>1</td>\n",
       "    </tr>\n",
       "  </tbody>\n",
       "</table>\n",
       "</div>"
      ],
      "text/plain": [
       "      severity region  temperature_f  visibility_mi  wind_speed_mph  \\\n",
       "0  short_delay   West           76.0           10.0             9.0   \n",
       "1  short_delay   West           67.0           10.0             0.0   \n",
       "2   long_delay  South           52.0           10.0             8.0   \n",
       "3  short_delay   West           66.0           10.0             6.0   \n",
       "4  short_delay   West           59.0           10.0             0.0   \n",
       "\n",
       "   precipitation_in  weather_condition  sunrise_sunset  classification  \n",
       "0               0.0                  1               1               1  \n",
       "1               0.0                  1               1               1  \n",
       "2               0.0                  1               1               1  \n",
       "3               0.0                  1               0               1  \n",
       "4               0.0                  1               0               1  "
      ]
     },
     "execution_count": 13,
     "metadata": {},
     "output_type": "execute_result"
    }
   ],
   "source": [
    "# Transform \"sunrise_sunset\", \"weather_condition\", and \"classification\" to binary feature\n",
    "df.sunrise_sunset = df.sunrise_sunset.replace({'Day': 1, 'Night': 0}) \n",
    "df.weather_condition = df.weather_condition.replace({'clear_weather': 1, 'bad_weather': 0})\n",
    "df.classification = df.classification.replace({'PreCOVID': 1, 'COVID': 0})\n",
    "df.head()"
   ]
  },
  {
   "cell_type": "code",
   "execution_count": 14,
   "id": "3ccc1dc0",
   "metadata": {},
   "outputs": [
    {
     "name": "stdout",
     "output_type": "stream",
     "text": [
      "1    422459\n",
      "0     77541\n",
      "Name: weather_condition, dtype: int64\n",
      "1    318107\n",
      "0    181893\n",
      "Name: sunrise_sunset, dtype: int64\n"
     ]
    }
   ],
   "source": [
    "# Get count of unique values in the 'Weather_Condition' column\n",
    "print(df['weather_condition'].value_counts())\n",
    "print(df['sunrise_sunset'].value_counts())"
   ]
  },
  {
   "cell_type": "code",
   "execution_count": 15,
   "id": "9b5b87c1",
   "metadata": {},
   "outputs": [
    {
     "ename": "KeyError",
     "evalue": "('temperature_f', 'visiblity_mi', 'wind_speed_mph', 'precipitation_in')",
     "output_type": "error",
     "traceback": [
      "\u001b[0;31m---------------------------------------------------------------------------\u001b[0m",
      "\u001b[0;31mKeyError\u001b[0m                                  Traceback (most recent call last)",
      "\u001b[0;32m~/opt/anaconda3/lib/python3.9/site-packages/pandas/core/indexes/base.py\u001b[0m in \u001b[0;36mget_loc\u001b[0;34m(self, key, method, tolerance)\u001b[0m\n\u001b[1;32m   3360\u001b[0m             \u001b[0;32mtry\u001b[0m\u001b[0;34m:\u001b[0m\u001b[0;34m\u001b[0m\u001b[0;34m\u001b[0m\u001b[0m\n\u001b[0;32m-> 3361\u001b[0;31m                 \u001b[0;32mreturn\u001b[0m \u001b[0mself\u001b[0m\u001b[0;34m.\u001b[0m\u001b[0m_engine\u001b[0m\u001b[0;34m.\u001b[0m\u001b[0mget_loc\u001b[0m\u001b[0;34m(\u001b[0m\u001b[0mcasted_key\u001b[0m\u001b[0;34m)\u001b[0m\u001b[0;34m\u001b[0m\u001b[0;34m\u001b[0m\u001b[0m\n\u001b[0m\u001b[1;32m   3362\u001b[0m             \u001b[0;32mexcept\u001b[0m \u001b[0mKeyError\u001b[0m \u001b[0;32mas\u001b[0m \u001b[0merr\u001b[0m\u001b[0;34m:\u001b[0m\u001b[0;34m\u001b[0m\u001b[0;34m\u001b[0m\u001b[0m\n",
      "\u001b[0;32m~/opt/anaconda3/lib/python3.9/site-packages/pandas/_libs/index.pyx\u001b[0m in \u001b[0;36mpandas._libs.index.IndexEngine.get_loc\u001b[0;34m()\u001b[0m\n",
      "\u001b[0;32m~/opt/anaconda3/lib/python3.9/site-packages/pandas/_libs/index.pyx\u001b[0m in \u001b[0;36mpandas._libs.index.IndexEngine.get_loc\u001b[0;34m()\u001b[0m\n",
      "\u001b[0;32mpandas/_libs/hashtable_class_helper.pxi\u001b[0m in \u001b[0;36mpandas._libs.hashtable.PyObjectHashTable.get_item\u001b[0;34m()\u001b[0m\n",
      "\u001b[0;32mpandas/_libs/hashtable_class_helper.pxi\u001b[0m in \u001b[0;36mpandas._libs.hashtable.PyObjectHashTable.get_item\u001b[0;34m()\u001b[0m\n",
      "\u001b[0;31mKeyError\u001b[0m: ('temperature_f', 'visiblity_mi', 'wind_speed_mph', 'precipitation_in')",
      "\nThe above exception was the direct cause of the following exception:\n",
      "\u001b[0;31mKeyError\u001b[0m                                  Traceback (most recent call last)",
      "\u001b[0;32m/var/folders/5h/tdj3k_294qxc447pq6_7rxn80000gn/T/ipykernel_47302/507287300.py\u001b[0m in \u001b[0;36m<module>\u001b[0;34m\u001b[0m\n\u001b[1;32m      2\u001b[0m \u001b[0;32mimport\u001b[0m \u001b[0mnumpy\u001b[0m \u001b[0;32mas\u001b[0m \u001b[0mnp\u001b[0m\u001b[0;34m\u001b[0m\u001b[0;34m\u001b[0m\u001b[0m\n\u001b[1;32m      3\u001b[0m \u001b[0;31m# Creat box plot of MLM features\u001b[0m\u001b[0;34m\u001b[0m\u001b[0;34m\u001b[0m\u001b[0m\n\u001b[0;32m----> 4\u001b[0;31m \u001b[0mbox_plot_data\u001b[0m\u001b[0;34m=\u001b[0m\u001b[0mdf\u001b[0m\u001b[0;34m[\u001b[0m\u001b[0;34m'temperature_f'\u001b[0m\u001b[0;34m,\u001b[0m \u001b[0;34m'visiblity_mi'\u001b[0m\u001b[0;34m,\u001b[0m \u001b[0;34m'wind_speed_mph'\u001b[0m\u001b[0;34m,\u001b[0m \u001b[0;34m'precipitation_in'\u001b[0m\u001b[0;34m]\u001b[0m\u001b[0;34m\u001b[0m\u001b[0;34m\u001b[0m\u001b[0m\n\u001b[0m\u001b[1;32m      5\u001b[0m \u001b[0mplt\u001b[0m\u001b[0;34m.\u001b[0m\u001b[0mboxplot\u001b[0m\u001b[0;34m(\u001b[0m\u001b[0mbox_plot_data\u001b[0m\u001b[0;34m,\u001b[0m \u001b[0mpatch_artist\u001b[0m\u001b[0;34m=\u001b[0m\u001b[0;32mTrue\u001b[0m\u001b[0;34m,\u001b[0m \u001b[0mlabels\u001b[0m\u001b[0;34m=\u001b[0m\u001b[0;34m[\u001b[0m\u001b[0;34m'Temp_F'\u001b[0m\u001b[0;34m,\u001b[0m\u001b[0;34m'Vis_Mi'\u001b[0m\u001b[0;34m,\u001b[0m\u001b[0;34m'Wind_MPH'\u001b[0m\u001b[0;34m,\u001b[0m\u001b[0;34m'Prec_In'\u001b[0m\u001b[0;34m]\u001b[0m\u001b[0;34m)\u001b[0m\u001b[0;34m\u001b[0m\u001b[0;34m\u001b[0m\u001b[0m\n\u001b[1;32m      6\u001b[0m \u001b[0mplt\u001b[0m\u001b[0;34m.\u001b[0m\u001b[0mshow\u001b[0m\u001b[0;34m(\u001b[0m\u001b[0;34m)\u001b[0m\u001b[0;34m\u001b[0m\u001b[0;34m\u001b[0m\u001b[0m\n",
      "\u001b[0;32m~/opt/anaconda3/lib/python3.9/site-packages/pandas/core/frame.py\u001b[0m in \u001b[0;36m__getitem__\u001b[0;34m(self, key)\u001b[0m\n\u001b[1;32m   3456\u001b[0m             \u001b[0;32mif\u001b[0m \u001b[0mself\u001b[0m\u001b[0;34m.\u001b[0m\u001b[0mcolumns\u001b[0m\u001b[0;34m.\u001b[0m\u001b[0mnlevels\u001b[0m \u001b[0;34m>\u001b[0m \u001b[0;36m1\u001b[0m\u001b[0;34m:\u001b[0m\u001b[0;34m\u001b[0m\u001b[0;34m\u001b[0m\u001b[0m\n\u001b[1;32m   3457\u001b[0m                 \u001b[0;32mreturn\u001b[0m \u001b[0mself\u001b[0m\u001b[0;34m.\u001b[0m\u001b[0m_getitem_multilevel\u001b[0m\u001b[0;34m(\u001b[0m\u001b[0mkey\u001b[0m\u001b[0;34m)\u001b[0m\u001b[0;34m\u001b[0m\u001b[0;34m\u001b[0m\u001b[0m\n\u001b[0;32m-> 3458\u001b[0;31m             \u001b[0mindexer\u001b[0m \u001b[0;34m=\u001b[0m \u001b[0mself\u001b[0m\u001b[0;34m.\u001b[0m\u001b[0mcolumns\u001b[0m\u001b[0;34m.\u001b[0m\u001b[0mget_loc\u001b[0m\u001b[0;34m(\u001b[0m\u001b[0mkey\u001b[0m\u001b[0;34m)\u001b[0m\u001b[0;34m\u001b[0m\u001b[0;34m\u001b[0m\u001b[0m\n\u001b[0m\u001b[1;32m   3459\u001b[0m             \u001b[0;32mif\u001b[0m \u001b[0mis_integer\u001b[0m\u001b[0;34m(\u001b[0m\u001b[0mindexer\u001b[0m\u001b[0;34m)\u001b[0m\u001b[0;34m:\u001b[0m\u001b[0;34m\u001b[0m\u001b[0;34m\u001b[0m\u001b[0m\n\u001b[1;32m   3460\u001b[0m                 \u001b[0mindexer\u001b[0m \u001b[0;34m=\u001b[0m \u001b[0;34m[\u001b[0m\u001b[0mindexer\u001b[0m\u001b[0;34m]\u001b[0m\u001b[0;34m\u001b[0m\u001b[0;34m\u001b[0m\u001b[0m\n",
      "\u001b[0;32m~/opt/anaconda3/lib/python3.9/site-packages/pandas/core/indexes/base.py\u001b[0m in \u001b[0;36mget_loc\u001b[0;34m(self, key, method, tolerance)\u001b[0m\n\u001b[1;32m   3361\u001b[0m                 \u001b[0;32mreturn\u001b[0m \u001b[0mself\u001b[0m\u001b[0;34m.\u001b[0m\u001b[0m_engine\u001b[0m\u001b[0;34m.\u001b[0m\u001b[0mget_loc\u001b[0m\u001b[0;34m(\u001b[0m\u001b[0mcasted_key\u001b[0m\u001b[0;34m)\u001b[0m\u001b[0;34m\u001b[0m\u001b[0;34m\u001b[0m\u001b[0m\n\u001b[1;32m   3362\u001b[0m             \u001b[0;32mexcept\u001b[0m \u001b[0mKeyError\u001b[0m \u001b[0;32mas\u001b[0m \u001b[0merr\u001b[0m\u001b[0;34m:\u001b[0m\u001b[0;34m\u001b[0m\u001b[0;34m\u001b[0m\u001b[0m\n\u001b[0;32m-> 3363\u001b[0;31m                 \u001b[0;32mraise\u001b[0m \u001b[0mKeyError\u001b[0m\u001b[0;34m(\u001b[0m\u001b[0mkey\u001b[0m\u001b[0;34m)\u001b[0m \u001b[0;32mfrom\u001b[0m \u001b[0merr\u001b[0m\u001b[0;34m\u001b[0m\u001b[0;34m\u001b[0m\u001b[0m\n\u001b[0m\u001b[1;32m   3364\u001b[0m \u001b[0;34m\u001b[0m\u001b[0m\n\u001b[1;32m   3365\u001b[0m         \u001b[0;32mif\u001b[0m \u001b[0mis_scalar\u001b[0m\u001b[0;34m(\u001b[0m\u001b[0mkey\u001b[0m\u001b[0;34m)\u001b[0m \u001b[0;32mand\u001b[0m \u001b[0misna\u001b[0m\u001b[0;34m(\u001b[0m\u001b[0mkey\u001b[0m\u001b[0;34m)\u001b[0m \u001b[0;32mand\u001b[0m \u001b[0;32mnot\u001b[0m \u001b[0mself\u001b[0m\u001b[0;34m.\u001b[0m\u001b[0mhasnans\u001b[0m\u001b[0;34m:\u001b[0m\u001b[0;34m\u001b[0m\u001b[0;34m\u001b[0m\u001b[0m\n",
      "\u001b[0;31mKeyError\u001b[0m: ('temperature_f', 'visiblity_mi', 'wind_speed_mph', 'precipitation_in')"
     ]
    }
   ],
   "source": [
    "import matplotlib.pyplot as plt\n",
    "import numpy as np\n",
    "# Creat box plot of MLM features\n",
    "box_plot_data=df['temperature_f', 'visiblity_mi', 'wind_speed_mph', 'precipitation_in']\n",
    "plt.boxplot(box_plot_data, patch_artist=True, labels=['Temp_F','Vis_Mi','Wind_MPH','Prec_In'])\n",
    "plt.show()"
   ]
  },
  {
   "cell_type": "code",
   "execution_count": null,
   "id": "0f2da323",
   "metadata": {},
   "outputs": [],
   "source": [
    "import matplotlib.pyplot as plt\n",
    "import seaborn as sns\n",
    "\n",
    "# Plot the no of 1's and 0's, weather_condition\n",
    "wc_graph = sns.countplot(df['weather_condition'])\n",
    "wc_graph.set_xticklabels(['bad_weather', 'clear_weather'])\n",
    "plt.show()"
   ]
  },
  {
   "cell_type": "code",
   "execution_count": null,
   "id": "eccaca15",
   "metadata": {},
   "outputs": [],
   "source": [
    "# Plot the no of 1's and 0's, sunrise_sunset\n",
    "ss_graph = sns.countplot(df['sunrise_sunset'])\n",
    "ss_graph.set_xticklabels(['night', 'day'])\n",
    "plt.show()"
   ]
  },
  {
   "cell_type": "code",
   "execution_count": null,
   "id": "344ad468",
   "metadata": {},
   "outputs": [],
   "source": [
    "# Calculate Correlations\n",
    "df.corr()"
   ]
  },
  {
   "cell_type": "code",
   "execution_count": null,
   "id": "16756662",
   "metadata": {},
   "outputs": [],
   "source": [
    "# Plot corr - lighter color closest to 1 perfect correlation; darkest is negative correlation\n",
    "plt.figure(figsize=(20,20))\n",
    "sns.heatmap(df.corr(), annot=True)\n",
    "plt.show()"
   ]
  },
  {
   "cell_type": "code",
   "execution_count": null,
   "id": "977af16c",
   "metadata": {},
   "outputs": [],
   "source": []
  },
  {
   "cell_type": "code",
   "execution_count": null,
   "id": "f9b0a123",
   "metadata": {},
   "outputs": [],
   "source": []
  }
 ],
 "metadata": {
  "kernelspec": {
   "display_name": "mlenv",
   "language": "python",
   "name": "mlenv"
  },
  "language_info": {
   "codemirror_mode": {
    "name": "ipython",
    "version": 3
   },
   "file_extension": ".py",
   "mimetype": "text/x-python",
   "name": "python",
   "nbconvert_exporter": "python",
   "pygments_lexer": "ipython3",
   "version": "3.9.7"
  }
 },
 "nbformat": 4,
 "nbformat_minor": 5
}
