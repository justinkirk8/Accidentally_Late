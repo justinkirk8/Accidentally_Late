{
 "cells": [
  {
   "cell_type": "code",
   "execution_count": 1,
   "id": "b2781935",
   "metadata": {},
   "outputs": [],
   "source": [
    "import warnings\n",
    "warnings.filterwarnings('ignore')"
   ]
  },
  {
   "cell_type": "code",
   "execution_count": 2,
   "id": "759e095b",
   "metadata": {},
   "outputs": [],
   "source": [
    "import numpy as np\n",
    "import pandas as pd\n",
    "from pathlib import Path\n",
    "from collections import Counter"
   ]
  },
  {
   "cell_type": "code",
   "execution_count": 3,
   "id": "c3a0e1dc",
   "metadata": {},
   "outputs": [],
   "source": [
    "from sklearn.metrics import balanced_accuracy_score\n",
    "from sklearn.metrics import confusion_matrix\n",
    "from imblearn.metrics import classification_report_imbalanced"
   ]
  },
  {
   "cell_type": "markdown",
   "id": "4a31413b",
   "metadata": {},
   "source": [
    "## **RETRAINING - NEW DATA WITH FLORIDA**"
   ]
  },
  {
   "cell_type": "code",
   "execution_count": 4,
   "id": "cd61fd2c",
   "metadata": {},
   "outputs": [
    {
     "data": {
      "text/html": [
       "<div>\n",
       "<style scoped>\n",
       "    .dataframe tbody tr th:only-of-type {\n",
       "        vertical-align: middle;\n",
       "    }\n",
       "\n",
       "    .dataframe tbody tr th {\n",
       "        vertical-align: top;\n",
       "    }\n",
       "\n",
       "    .dataframe thead th {\n",
       "        text-align: right;\n",
       "    }\n",
       "</style>\n",
       "<table border=\"1\" class=\"dataframe\">\n",
       "  <thead>\n",
       "    <tr style=\"text-align: right;\">\n",
       "      <th></th>\n",
       "      <th>severity</th>\n",
       "      <th>state_code</th>\n",
       "      <th>region</th>\n",
       "      <th>division</th>\n",
       "      <th>temperature_f</th>\n",
       "      <th>visibility_mi</th>\n",
       "      <th>wind_speed_mph</th>\n",
       "      <th>precipitation_in</th>\n",
       "      <th>weather_condition</th>\n",
       "      <th>sunrise_sunset</th>\n",
       "      <th>year</th>\n",
       "      <th>date</th>\n",
       "      <th>classification</th>\n",
       "    </tr>\n",
       "  </thead>\n",
       "  <tbody>\n",
       "    <tr>\n",
       "      <th>0</th>\n",
       "      <td>short_delay</td>\n",
       "      <td>CA</td>\n",
       "      <td>West</td>\n",
       "      <td>Pacific</td>\n",
       "      <td>76.0</td>\n",
       "      <td>10.0</td>\n",
       "      <td>9.0</td>\n",
       "      <td>0.0</td>\n",
       "      <td>clear_weather</td>\n",
       "      <td>Day</td>\n",
       "      <td>2019</td>\n",
       "      <td>2019-06-27</td>\n",
       "      <td>PreCOVID</td>\n",
       "    </tr>\n",
       "    <tr>\n",
       "      <th>1</th>\n",
       "      <td>short_delay</td>\n",
       "      <td>OR</td>\n",
       "      <td>West</td>\n",
       "      <td>Pacific</td>\n",
       "      <td>67.0</td>\n",
       "      <td>10.0</td>\n",
       "      <td>0.0</td>\n",
       "      <td>0.0</td>\n",
       "      <td>clear_weather</td>\n",
       "      <td>Day</td>\n",
       "      <td>2019</td>\n",
       "      <td>2019-06-05</td>\n",
       "      <td>PreCOVID</td>\n",
       "    </tr>\n",
       "    <tr>\n",
       "      <th>2</th>\n",
       "      <td>long_delay</td>\n",
       "      <td>VA</td>\n",
       "      <td>South</td>\n",
       "      <td>South Atlantic</td>\n",
       "      <td>52.0</td>\n",
       "      <td>10.0</td>\n",
       "      <td>8.0</td>\n",
       "      <td>0.0</td>\n",
       "      <td>clear_weather</td>\n",
       "      <td>Day</td>\n",
       "      <td>2019</td>\n",
       "      <td>2019-04-01</td>\n",
       "      <td>PreCOVID</td>\n",
       "    </tr>\n",
       "    <tr>\n",
       "      <th>3</th>\n",
       "      <td>short_delay</td>\n",
       "      <td>CA</td>\n",
       "      <td>West</td>\n",
       "      <td>Pacific</td>\n",
       "      <td>66.0</td>\n",
       "      <td>10.0</td>\n",
       "      <td>6.0</td>\n",
       "      <td>0.0</td>\n",
       "      <td>clear_weather</td>\n",
       "      <td>Night</td>\n",
       "      <td>2019</td>\n",
       "      <td>2019-10-06</td>\n",
       "      <td>PreCOVID</td>\n",
       "    </tr>\n",
       "    <tr>\n",
       "      <th>4</th>\n",
       "      <td>short_delay</td>\n",
       "      <td>CA</td>\n",
       "      <td>West</td>\n",
       "      <td>Pacific</td>\n",
       "      <td>59.0</td>\n",
       "      <td>10.0</td>\n",
       "      <td>0.0</td>\n",
       "      <td>0.0</td>\n",
       "      <td>clear_weather</td>\n",
       "      <td>Night</td>\n",
       "      <td>2020</td>\n",
       "      <td>2020-02-06</td>\n",
       "      <td>PreCOVID</td>\n",
       "    </tr>\n",
       "  </tbody>\n",
       "</table>\n",
       "</div>"
      ],
      "text/plain": [
       "      severity state_code region        division  temperature_f  \\\n",
       "0  short_delay         CA   West         Pacific           76.0   \n",
       "1  short_delay         OR   West         Pacific           67.0   \n",
       "2   long_delay         VA  South  South Atlantic           52.0   \n",
       "3  short_delay         CA   West         Pacific           66.0   \n",
       "4  short_delay         CA   West         Pacific           59.0   \n",
       "\n",
       "   visibility_mi  wind_speed_mph  precipitation_in weather_condition  \\\n",
       "0           10.0             9.0               0.0     clear_weather   \n",
       "1           10.0             0.0               0.0     clear_weather   \n",
       "2           10.0             8.0               0.0     clear_weather   \n",
       "3           10.0             6.0               0.0     clear_weather   \n",
       "4           10.0             0.0               0.0     clear_weather   \n",
       "\n",
       "  sunrise_sunset  year        date classification  \n",
       "0            Day  2019  2019-06-27       PreCOVID  \n",
       "1            Day  2019  2019-06-05       PreCOVID  \n",
       "2            Day  2019  2019-04-01       PreCOVID  \n",
       "3          Night  2019  2019-10-06       PreCOVID  \n",
       "4          Night  2020  2020-02-06       PreCOVID  "
      ]
     },
     "execution_count": 4,
     "metadata": {},
     "output_type": "execute_result"
    }
   ],
   "source": [
    "# Load the data\n",
    "df = pd.read_csv('https://raw.githubusercontent.com/justinkirk8/Accidentally_Late/main/accidents_sample_joined.csv')\n",
    "df.head()"
   ]
  },
  {
   "cell_type": "code",
   "execution_count": 5,
   "id": "1a8ac73c",
   "metadata": {},
   "outputs": [
    {
     "data": {
      "text/plain": [
       "severity              object\n",
       "state_code            object\n",
       "region                object\n",
       "division              object\n",
       "temperature_f        float64\n",
       "visibility_mi        float64\n",
       "wind_speed_mph       float64\n",
       "precipitation_in     float64\n",
       "weather_condition     object\n",
       "sunrise_sunset        object\n",
       "year                   int64\n",
       "date                  object\n",
       "classification        object\n",
       "dtype: object"
      ]
     },
     "execution_count": 5,
     "metadata": {},
     "output_type": "execute_result"
    }
   ],
   "source": [
    "# Check dtypes, features should be float64\n",
    "df.dtypes"
   ]
  },
  {
   "cell_type": "code",
   "execution_count": 6,
   "id": "f02de25b",
   "metadata": {},
   "outputs": [
    {
     "data": {
      "text/plain": [
       "500000"
      ]
     },
     "execution_count": 6,
     "metadata": {},
     "output_type": "execute_result"
    }
   ],
   "source": [
    "# Get the number of rows\n",
    "df.shape[0]"
   ]
  },
  {
   "cell_type": "code",
   "execution_count": 7,
   "id": "167d2e73",
   "metadata": {},
   "outputs": [
    {
     "name": "stdout",
     "output_type": "stream",
     "text": [
      "short_delay    446404\n",
      "long_delay      53596\n",
      "Name: severity, dtype: int64\n"
     ]
    }
   ],
   "source": [
    "# Get count of unique values in the 'Severity' column\n",
    "print(df['severity'].value_counts())"
   ]
  },
  {
   "cell_type": "code",
   "execution_count": 8,
   "id": "675fe074",
   "metadata": {},
   "outputs": [
    {
     "name": "stdout",
     "output_type": "stream",
     "text": [
      "CA    175500\n",
      "FL     52755\n",
      "OR     40126\n",
      "MN     24114\n",
      "TX     18629\n",
      "NY     16277\n",
      "VA     14482\n",
      "UT     14440\n",
      "PA     12501\n",
      "SC     11533\n",
      "NC     11286\n",
      "NJ      9392\n",
      "IL      7949\n",
      "MI      7783\n",
      "TN      7225\n",
      "MD      7061\n",
      "AZ      6866\n",
      "GA      6617\n",
      "LA      6446\n",
      "CO      6158\n",
      "WA      5942\n",
      "CT      4645\n",
      "MO      3653\n",
      "AL      2943\n",
      "IN      2723\n",
      "OH      2378\n",
      "MT      1983\n",
      "AR      1831\n",
      "IA      1355\n",
      "WI      1280\n",
      "ID      1267\n",
      "DC      1252\n",
      "WV      1164\n",
      "KS      1152\n",
      "OK       997\n",
      "MA       993\n",
      "NH       986\n",
      "KY       959\n",
      "MS       884\n",
      "RI       845\n",
      "NE       725\n",
      "ME       689\n",
      "DE       688\n",
      "NV       619\n",
      "NM       360\n",
      "ND       235\n",
      "VT       142\n",
      "WY       126\n",
      "SD        44\n",
      "Name: state_code, dtype: int64\n",
      "West         253387\n",
      "South        146752\n",
      "Midwest       53391\n",
      "Northeast     46470\n",
      "Name: region, dtype: int64\n",
      "Pacific               221568\n",
      "South Atlantic        106838\n",
      "Middle Atlantic        38170\n",
      "Mountain               31819\n",
      "West North Central     31278\n",
      "West South Central     27903\n",
      "East North Central     22113\n",
      "East South Central     12011\n",
      "New England             8300\n",
      "Name: division, dtype: int64\n"
     ]
    }
   ],
   "source": [
    "# Get count of unique values in the 'state_code', 'region', 'division'\n",
    "print(df['state_code'].value_counts())\n",
    "print(df['region'].value_counts())\n",
    "print(df['division'].value_counts())"
   ]
  },
  {
   "cell_type": "code",
   "execution_count": 9,
   "id": "3b2173f6",
   "metadata": {},
   "outputs": [
    {
     "data": {
      "text/html": [
       "<div>\n",
       "<style scoped>\n",
       "    .dataframe tbody tr th:only-of-type {\n",
       "        vertical-align: middle;\n",
       "    }\n",
       "\n",
       "    .dataframe tbody tr th {\n",
       "        vertical-align: top;\n",
       "    }\n",
       "\n",
       "    .dataframe thead th {\n",
       "        text-align: right;\n",
       "    }\n",
       "</style>\n",
       "<table border=\"1\" class=\"dataframe\">\n",
       "  <thead>\n",
       "    <tr style=\"text-align: right;\">\n",
       "      <th></th>\n",
       "      <th>severity</th>\n",
       "      <th>state_code</th>\n",
       "      <th>temperature_f</th>\n",
       "      <th>visibility_mi</th>\n",
       "      <th>wind_speed_mph</th>\n",
       "      <th>precipitation_in</th>\n",
       "      <th>weather_condition</th>\n",
       "      <th>sunrise_sunset</th>\n",
       "      <th>classification</th>\n",
       "    </tr>\n",
       "  </thead>\n",
       "  <tbody>\n",
       "    <tr>\n",
       "      <th>0</th>\n",
       "      <td>short_delay</td>\n",
       "      <td>CA</td>\n",
       "      <td>76.0</td>\n",
       "      <td>10.0</td>\n",
       "      <td>9.0</td>\n",
       "      <td>0.0</td>\n",
       "      <td>clear_weather</td>\n",
       "      <td>Day</td>\n",
       "      <td>PreCOVID</td>\n",
       "    </tr>\n",
       "    <tr>\n",
       "      <th>1</th>\n",
       "      <td>short_delay</td>\n",
       "      <td>OR</td>\n",
       "      <td>67.0</td>\n",
       "      <td>10.0</td>\n",
       "      <td>0.0</td>\n",
       "      <td>0.0</td>\n",
       "      <td>clear_weather</td>\n",
       "      <td>Day</td>\n",
       "      <td>PreCOVID</td>\n",
       "    </tr>\n",
       "    <tr>\n",
       "      <th>2</th>\n",
       "      <td>long_delay</td>\n",
       "      <td>VA</td>\n",
       "      <td>52.0</td>\n",
       "      <td>10.0</td>\n",
       "      <td>8.0</td>\n",
       "      <td>0.0</td>\n",
       "      <td>clear_weather</td>\n",
       "      <td>Day</td>\n",
       "      <td>PreCOVID</td>\n",
       "    </tr>\n",
       "    <tr>\n",
       "      <th>3</th>\n",
       "      <td>short_delay</td>\n",
       "      <td>CA</td>\n",
       "      <td>66.0</td>\n",
       "      <td>10.0</td>\n",
       "      <td>6.0</td>\n",
       "      <td>0.0</td>\n",
       "      <td>clear_weather</td>\n",
       "      <td>Night</td>\n",
       "      <td>PreCOVID</td>\n",
       "    </tr>\n",
       "    <tr>\n",
       "      <th>4</th>\n",
       "      <td>short_delay</td>\n",
       "      <td>CA</td>\n",
       "      <td>59.0</td>\n",
       "      <td>10.0</td>\n",
       "      <td>0.0</td>\n",
       "      <td>0.0</td>\n",
       "      <td>clear_weather</td>\n",
       "      <td>Night</td>\n",
       "      <td>PreCOVID</td>\n",
       "    </tr>\n",
       "  </tbody>\n",
       "</table>\n",
       "</div>"
      ],
      "text/plain": [
       "      severity state_code  temperature_f  visibility_mi  wind_speed_mph  \\\n",
       "0  short_delay         CA           76.0           10.0             9.0   \n",
       "1  short_delay         OR           67.0           10.0             0.0   \n",
       "2   long_delay         VA           52.0           10.0             8.0   \n",
       "3  short_delay         CA           66.0           10.0             6.0   \n",
       "4  short_delay         CA           59.0           10.0             0.0   \n",
       "\n",
       "   precipitation_in weather_condition sunrise_sunset classification  \n",
       "0               0.0     clear_weather            Day       PreCOVID  \n",
       "1               0.0     clear_weather            Day       PreCOVID  \n",
       "2               0.0     clear_weather            Day       PreCOVID  \n",
       "3               0.0     clear_weather          Night       PreCOVID  \n",
       "4               0.0     clear_weather          Night       PreCOVID  "
      ]
     },
     "execution_count": 9,
     "metadata": {},
     "output_type": "execute_result"
    }
   ],
   "source": [
    "# Drop REGION, year, date and division columns\n",
    "df.drop('region', axis=1, inplace=True)\n",
    "df.drop('date', axis=1, inplace=True)\n",
    "df.drop('year', axis=1, inplace=True)\n",
    "df.drop('division', axis=1, inplace=True)\n",
    "df.head()"
   ]
  },
  {
   "cell_type": "code",
   "execution_count": 10,
   "id": "67359a8e",
   "metadata": {},
   "outputs": [
    {
     "data": {
      "text/html": [
       "<div>\n",
       "<style scoped>\n",
       "    .dataframe tbody tr th:only-of-type {\n",
       "        vertical-align: middle;\n",
       "    }\n",
       "\n",
       "    .dataframe tbody tr th {\n",
       "        vertical-align: top;\n",
       "    }\n",
       "\n",
       "    .dataframe thead th {\n",
       "        text-align: right;\n",
       "    }\n",
       "</style>\n",
       "<table border=\"1\" class=\"dataframe\">\n",
       "  <thead>\n",
       "    <tr style=\"text-align: right;\">\n",
       "      <th></th>\n",
       "      <th>severity</th>\n",
       "      <th>state_code</th>\n",
       "      <th>temperature_f</th>\n",
       "      <th>visibility_mi</th>\n",
       "      <th>wind_speed_mph</th>\n",
       "      <th>precipitation_in</th>\n",
       "      <th>weather_condition</th>\n",
       "      <th>sunrise_sunset</th>\n",
       "      <th>classification</th>\n",
       "    </tr>\n",
       "  </thead>\n",
       "  <tbody>\n",
       "    <tr>\n",
       "      <th>5</th>\n",
       "      <td>short_delay</td>\n",
       "      <td>FL</td>\n",
       "      <td>81.0</td>\n",
       "      <td>9.0</td>\n",
       "      <td>12.7</td>\n",
       "      <td>0.0</td>\n",
       "      <td>bad_weather</td>\n",
       "      <td>Day</td>\n",
       "      <td>PreCOVID</td>\n",
       "    </tr>\n",
       "    <tr>\n",
       "      <th>64</th>\n",
       "      <td>long_delay</td>\n",
       "      <td>FL</td>\n",
       "      <td>78.0</td>\n",
       "      <td>7.0</td>\n",
       "      <td>6.0</td>\n",
       "      <td>0.0</td>\n",
       "      <td>clear_weather</td>\n",
       "      <td>Day</td>\n",
       "      <td>PreCOVID</td>\n",
       "    </tr>\n",
       "    <tr>\n",
       "      <th>67</th>\n",
       "      <td>long_delay</td>\n",
       "      <td>FL</td>\n",
       "      <td>84.0</td>\n",
       "      <td>10.0</td>\n",
       "      <td>6.0</td>\n",
       "      <td>0.0</td>\n",
       "      <td>clear_weather</td>\n",
       "      <td>Day</td>\n",
       "      <td>PreCOVID</td>\n",
       "    </tr>\n",
       "    <tr>\n",
       "      <th>136</th>\n",
       "      <td>long_delay</td>\n",
       "      <td>FL</td>\n",
       "      <td>71.0</td>\n",
       "      <td>10.0</td>\n",
       "      <td>13.0</td>\n",
       "      <td>0.0</td>\n",
       "      <td>clear_weather</td>\n",
       "      <td>Day</td>\n",
       "      <td>PreCOVID</td>\n",
       "    </tr>\n",
       "    <tr>\n",
       "      <th>154</th>\n",
       "      <td>long_delay</td>\n",
       "      <td>FL</td>\n",
       "      <td>82.0</td>\n",
       "      <td>10.0</td>\n",
       "      <td>15.0</td>\n",
       "      <td>0.0</td>\n",
       "      <td>clear_weather</td>\n",
       "      <td>Night</td>\n",
       "      <td>PreCOVID</td>\n",
       "    </tr>\n",
       "  </tbody>\n",
       "</table>\n",
       "</div>"
      ],
      "text/plain": [
       "        severity state_code  temperature_f  visibility_mi  wind_speed_mph  \\\n",
       "5    short_delay         FL           81.0            9.0            12.7   \n",
       "64    long_delay         FL           78.0            7.0             6.0   \n",
       "67    long_delay         FL           84.0           10.0             6.0   \n",
       "136   long_delay         FL           71.0           10.0            13.0   \n",
       "154   long_delay         FL           82.0           10.0            15.0   \n",
       "\n",
       "     precipitation_in weather_condition sunrise_sunset classification  \n",
       "5                 0.0       bad_weather            Day       PreCOVID  \n",
       "64                0.0     clear_weather            Day       PreCOVID  \n",
       "67                0.0     clear_weather            Day       PreCOVID  \n",
       "136               0.0     clear_weather            Day       PreCOVID  \n",
       "154               0.0     clear_weather          Night       PreCOVID  "
      ]
     },
     "execution_count": 10,
     "metadata": {},
     "output_type": "execute_result"
    }
   ],
   "source": [
    "# Filter dataframe for just \"FL\" data\n",
    "df = df.loc[df['state_code']== 'FL']\n",
    "df.head()"
   ]
  },
  {
   "cell_type": "code",
   "execution_count": 11,
   "id": "3685fa80",
   "metadata": {},
   "outputs": [
    {
     "data": {
      "text/html": [
       "<div>\n",
       "<style scoped>\n",
       "    .dataframe tbody tr th:only-of-type {\n",
       "        vertical-align: middle;\n",
       "    }\n",
       "\n",
       "    .dataframe tbody tr th {\n",
       "        vertical-align: top;\n",
       "    }\n",
       "\n",
       "    .dataframe thead th {\n",
       "        text-align: right;\n",
       "    }\n",
       "</style>\n",
       "<table border=\"1\" class=\"dataframe\">\n",
       "  <thead>\n",
       "    <tr style=\"text-align: right;\">\n",
       "      <th></th>\n",
       "      <th>severity</th>\n",
       "      <th>temperature_f</th>\n",
       "      <th>visibility_mi</th>\n",
       "      <th>wind_speed_mph</th>\n",
       "      <th>precipitation_in</th>\n",
       "      <th>weather_condition</th>\n",
       "      <th>sunrise_sunset</th>\n",
       "      <th>classification</th>\n",
       "    </tr>\n",
       "  </thead>\n",
       "  <tbody>\n",
       "    <tr>\n",
       "      <th>5</th>\n",
       "      <td>short_delay</td>\n",
       "      <td>81.0</td>\n",
       "      <td>9.0</td>\n",
       "      <td>12.7</td>\n",
       "      <td>0.0</td>\n",
       "      <td>bad_weather</td>\n",
       "      <td>Day</td>\n",
       "      <td>PreCOVID</td>\n",
       "    </tr>\n",
       "    <tr>\n",
       "      <th>64</th>\n",
       "      <td>long_delay</td>\n",
       "      <td>78.0</td>\n",
       "      <td>7.0</td>\n",
       "      <td>6.0</td>\n",
       "      <td>0.0</td>\n",
       "      <td>clear_weather</td>\n",
       "      <td>Day</td>\n",
       "      <td>PreCOVID</td>\n",
       "    </tr>\n",
       "    <tr>\n",
       "      <th>67</th>\n",
       "      <td>long_delay</td>\n",
       "      <td>84.0</td>\n",
       "      <td>10.0</td>\n",
       "      <td>6.0</td>\n",
       "      <td>0.0</td>\n",
       "      <td>clear_weather</td>\n",
       "      <td>Day</td>\n",
       "      <td>PreCOVID</td>\n",
       "    </tr>\n",
       "    <tr>\n",
       "      <th>136</th>\n",
       "      <td>long_delay</td>\n",
       "      <td>71.0</td>\n",
       "      <td>10.0</td>\n",
       "      <td>13.0</td>\n",
       "      <td>0.0</td>\n",
       "      <td>clear_weather</td>\n",
       "      <td>Day</td>\n",
       "      <td>PreCOVID</td>\n",
       "    </tr>\n",
       "    <tr>\n",
       "      <th>154</th>\n",
       "      <td>long_delay</td>\n",
       "      <td>82.0</td>\n",
       "      <td>10.0</td>\n",
       "      <td>15.0</td>\n",
       "      <td>0.0</td>\n",
       "      <td>clear_weather</td>\n",
       "      <td>Night</td>\n",
       "      <td>PreCOVID</td>\n",
       "    </tr>\n",
       "  </tbody>\n",
       "</table>\n",
       "</div>"
      ],
      "text/plain": [
       "        severity  temperature_f  visibility_mi  wind_speed_mph  \\\n",
       "5    short_delay           81.0            9.0            12.7   \n",
       "64    long_delay           78.0            7.0             6.0   \n",
       "67    long_delay           84.0           10.0             6.0   \n",
       "136   long_delay           71.0           10.0            13.0   \n",
       "154   long_delay           82.0           10.0            15.0   \n",
       "\n",
       "     precipitation_in weather_condition sunrise_sunset classification  \n",
       "5                 0.0       bad_weather            Day       PreCOVID  \n",
       "64                0.0     clear_weather            Day       PreCOVID  \n",
       "67                0.0     clear_weather            Day       PreCOVID  \n",
       "136               0.0     clear_weather            Day       PreCOVID  \n",
       "154               0.0     clear_weather          Night       PreCOVID  "
      ]
     },
     "execution_count": 11,
     "metadata": {},
     "output_type": "execute_result"
    }
   ],
   "source": [
    "# Drop \"state_code\" - Florida results\n",
    "df.drop('state_code', axis=1, inplace=True)\n",
    "df.head()\n"
   ]
  },
  {
   "cell_type": "code",
   "execution_count": 12,
   "id": "81697dbe",
   "metadata": {},
   "outputs": [
    {
     "name": "stdout",
     "output_type": "stream",
     "text": [
      "clear_weather    46511\n",
      "bad_weather       6244\n",
      "Name: weather_condition, dtype: int64\n",
      "Day      36233\n",
      "Night    16522\n",
      "Name: sunrise_sunset, dtype: int64\n",
      "COVID       44226\n",
      "PreCOVID     8529\n",
      "Name: classification, dtype: int64\n"
     ]
    }
   ],
   "source": [
    "# Get count of unique values in the 'Weather_Condition' column\n",
    "print(df['weather_condition'].value_counts())\n",
    "print(df['sunrise_sunset'].value_counts())\n",
    "print(df['classification'].value_counts())"
   ]
  },
  {
   "cell_type": "code",
   "execution_count": 13,
   "id": "c741d9a4",
   "metadata": {
    "scrolled": true
   },
   "outputs": [
    {
     "data": {
      "text/html": [
       "<div>\n",
       "<style scoped>\n",
       "    .dataframe tbody tr th:only-of-type {\n",
       "        vertical-align: middle;\n",
       "    }\n",
       "\n",
       "    .dataframe tbody tr th {\n",
       "        vertical-align: top;\n",
       "    }\n",
       "\n",
       "    .dataframe thead th {\n",
       "        text-align: right;\n",
       "    }\n",
       "</style>\n",
       "<table border=\"1\" class=\"dataframe\">\n",
       "  <thead>\n",
       "    <tr style=\"text-align: right;\">\n",
       "      <th></th>\n",
       "      <th>severity</th>\n",
       "      <th>temperature_f</th>\n",
       "      <th>visibility_mi</th>\n",
       "      <th>wind_speed_mph</th>\n",
       "      <th>precipitation_in</th>\n",
       "      <th>weather_condition</th>\n",
       "      <th>sunrise_sunset</th>\n",
       "      <th>classification</th>\n",
       "    </tr>\n",
       "  </thead>\n",
       "  <tbody>\n",
       "    <tr>\n",
       "      <th>5</th>\n",
       "      <td>short_delay</td>\n",
       "      <td>81.0</td>\n",
       "      <td>9.0</td>\n",
       "      <td>12.7</td>\n",
       "      <td>0.0</td>\n",
       "      <td>0</td>\n",
       "      <td>1</td>\n",
       "      <td>1</td>\n",
       "    </tr>\n",
       "    <tr>\n",
       "      <th>64</th>\n",
       "      <td>long_delay</td>\n",
       "      <td>78.0</td>\n",
       "      <td>7.0</td>\n",
       "      <td>6.0</td>\n",
       "      <td>0.0</td>\n",
       "      <td>1</td>\n",
       "      <td>1</td>\n",
       "      <td>1</td>\n",
       "    </tr>\n",
       "    <tr>\n",
       "      <th>67</th>\n",
       "      <td>long_delay</td>\n",
       "      <td>84.0</td>\n",
       "      <td>10.0</td>\n",
       "      <td>6.0</td>\n",
       "      <td>0.0</td>\n",
       "      <td>1</td>\n",
       "      <td>1</td>\n",
       "      <td>1</td>\n",
       "    </tr>\n",
       "    <tr>\n",
       "      <th>136</th>\n",
       "      <td>long_delay</td>\n",
       "      <td>71.0</td>\n",
       "      <td>10.0</td>\n",
       "      <td>13.0</td>\n",
       "      <td>0.0</td>\n",
       "      <td>1</td>\n",
       "      <td>1</td>\n",
       "      <td>1</td>\n",
       "    </tr>\n",
       "    <tr>\n",
       "      <th>154</th>\n",
       "      <td>long_delay</td>\n",
       "      <td>82.0</td>\n",
       "      <td>10.0</td>\n",
       "      <td>15.0</td>\n",
       "      <td>0.0</td>\n",
       "      <td>1</td>\n",
       "      <td>0</td>\n",
       "      <td>1</td>\n",
       "    </tr>\n",
       "  </tbody>\n",
       "</table>\n",
       "</div>"
      ],
      "text/plain": [
       "        severity  temperature_f  visibility_mi  wind_speed_mph  \\\n",
       "5    short_delay           81.0            9.0            12.7   \n",
       "64    long_delay           78.0            7.0             6.0   \n",
       "67    long_delay           84.0           10.0             6.0   \n",
       "136   long_delay           71.0           10.0            13.0   \n",
       "154   long_delay           82.0           10.0            15.0   \n",
       "\n",
       "     precipitation_in  weather_condition  sunrise_sunset  classification  \n",
       "5                 0.0                  0               1               1  \n",
       "64                0.0                  1               1               1  \n",
       "67                0.0                  1               1               1  \n",
       "136               0.0                  1               1               1  \n",
       "154               0.0                  1               0               1  "
      ]
     },
     "execution_count": 13,
     "metadata": {},
     "output_type": "execute_result"
    }
   ],
   "source": [
    "# Transform \"sunrise_sunset\", \"weather_condition\", and \"classification\" to binary feature\n",
    "df.sunrise_sunset = df.sunrise_sunset.replace({'Day': 1, 'Night': 0}) \n",
    "df.weather_condition = df.weather_condition.replace({'clear_weather': 1, 'bad_weather': 0})\n",
    "df.classification = df.classification.replace({'PreCOVID': 1, 'COVID': 0})\n",
    "df.head()"
   ]
  },
  {
   "cell_type": "code",
   "execution_count": 14,
   "id": "3ccc1dc0",
   "metadata": {},
   "outputs": [
    {
     "name": "stdout",
     "output_type": "stream",
     "text": [
      "1    46511\n",
      "0     6244\n",
      "Name: weather_condition, dtype: int64\n",
      "1    36233\n",
      "0    16522\n",
      "Name: sunrise_sunset, dtype: int64\n"
     ]
    }
   ],
   "source": [
    "# Get count of unique values in the 'Weather_Condition' column\n",
    "print(df['weather_condition'].value_counts())\n",
    "print(df['sunrise_sunset'].value_counts())"
   ]
  },
  {
   "cell_type": "code",
   "execution_count": 15,
   "id": "ae7ce379",
   "metadata": {},
   "outputs": [],
   "source": [
    "#df = pd.get_dummies(df, columns=['region'])\n",
    "#df.head()"
   ]
  },
  {
   "cell_type": "code",
   "execution_count": 16,
   "id": "344ad468",
   "metadata": {},
   "outputs": [
    {
     "data": {
      "text/html": [
       "<div>\n",
       "<style scoped>\n",
       "    .dataframe tbody tr th:only-of-type {\n",
       "        vertical-align: middle;\n",
       "    }\n",
       "\n",
       "    .dataframe tbody tr th {\n",
       "        vertical-align: top;\n",
       "    }\n",
       "\n",
       "    .dataframe thead th {\n",
       "        text-align: right;\n",
       "    }\n",
       "</style>\n",
       "<table border=\"1\" class=\"dataframe\">\n",
       "  <thead>\n",
       "    <tr style=\"text-align: right;\">\n",
       "      <th></th>\n",
       "      <th>temperature_f</th>\n",
       "      <th>visibility_mi</th>\n",
       "      <th>wind_speed_mph</th>\n",
       "      <th>precipitation_in</th>\n",
       "      <th>weather_condition</th>\n",
       "      <th>sunrise_sunset</th>\n",
       "      <th>classification</th>\n",
       "    </tr>\n",
       "  </thead>\n",
       "  <tbody>\n",
       "    <tr>\n",
       "      <th>temperature_f</th>\n",
       "      <td>1.000000</td>\n",
       "      <td>0.142118</td>\n",
       "      <td>0.220748</td>\n",
       "      <td>-0.019692</td>\n",
       "      <td>0.012516</td>\n",
       "      <td>0.452603</td>\n",
       "      <td>0.074340</td>\n",
       "    </tr>\n",
       "    <tr>\n",
       "      <th>visibility_mi</th>\n",
       "      <td>0.142118</td>\n",
       "      <td>1.000000</td>\n",
       "      <td>0.019110</td>\n",
       "      <td>-0.382285</td>\n",
       "      <td>0.568621</td>\n",
       "      <td>0.020924</td>\n",
       "      <td>-0.027373</td>\n",
       "    </tr>\n",
       "    <tr>\n",
       "      <th>wind_speed_mph</th>\n",
       "      <td>0.220748</td>\n",
       "      <td>0.019110</td>\n",
       "      <td>1.000000</td>\n",
       "      <td>0.028382</td>\n",
       "      <td>-0.039874</td>\n",
       "      <td>0.277779</td>\n",
       "      <td>0.011201</td>\n",
       "    </tr>\n",
       "    <tr>\n",
       "      <th>precipitation_in</th>\n",
       "      <td>-0.019692</td>\n",
       "      <td>-0.382285</td>\n",
       "      <td>0.028382</td>\n",
       "      <td>1.000000</td>\n",
       "      <td>-0.343292</td>\n",
       "      <td>0.036519</td>\n",
       "      <td>0.042237</td>\n",
       "    </tr>\n",
       "    <tr>\n",
       "      <th>weather_condition</th>\n",
       "      <td>0.012516</td>\n",
       "      <td>0.568621</td>\n",
       "      <td>-0.039874</td>\n",
       "      <td>-0.343292</td>\n",
       "      <td>1.000000</td>\n",
       "      <td>-0.062315</td>\n",
       "      <td>-0.060014</td>\n",
       "    </tr>\n",
       "    <tr>\n",
       "      <th>sunrise_sunset</th>\n",
       "      <td>0.452603</td>\n",
       "      <td>0.020924</td>\n",
       "      <td>0.277779</td>\n",
       "      <td>0.036519</td>\n",
       "      <td>-0.062315</td>\n",
       "      <td>1.000000</td>\n",
       "      <td>0.052527</td>\n",
       "    </tr>\n",
       "    <tr>\n",
       "      <th>classification</th>\n",
       "      <td>0.074340</td>\n",
       "      <td>-0.027373</td>\n",
       "      <td>0.011201</td>\n",
       "      <td>0.042237</td>\n",
       "      <td>-0.060014</td>\n",
       "      <td>0.052527</td>\n",
       "      <td>1.000000</td>\n",
       "    </tr>\n",
       "  </tbody>\n",
       "</table>\n",
       "</div>"
      ],
      "text/plain": [
       "                   temperature_f  visibility_mi  wind_speed_mph  \\\n",
       "temperature_f           1.000000       0.142118        0.220748   \n",
       "visibility_mi           0.142118       1.000000        0.019110   \n",
       "wind_speed_mph          0.220748       0.019110        1.000000   \n",
       "precipitation_in       -0.019692      -0.382285        0.028382   \n",
       "weather_condition       0.012516       0.568621       -0.039874   \n",
       "sunrise_sunset          0.452603       0.020924        0.277779   \n",
       "classification          0.074340      -0.027373        0.011201   \n",
       "\n",
       "                   precipitation_in  weather_condition  sunrise_sunset  \\\n",
       "temperature_f             -0.019692           0.012516        0.452603   \n",
       "visibility_mi             -0.382285           0.568621        0.020924   \n",
       "wind_speed_mph             0.028382          -0.039874        0.277779   \n",
       "precipitation_in           1.000000          -0.343292        0.036519   \n",
       "weather_condition         -0.343292           1.000000       -0.062315   \n",
       "sunrise_sunset             0.036519          -0.062315        1.000000   \n",
       "classification             0.042237          -0.060014        0.052527   \n",
       "\n",
       "                   classification  \n",
       "temperature_f            0.074340  \n",
       "visibility_mi           -0.027373  \n",
       "wind_speed_mph           0.011201  \n",
       "precipitation_in         0.042237  \n",
       "weather_condition       -0.060014  \n",
       "sunrise_sunset           0.052527  \n",
       "classification           1.000000  "
      ]
     },
     "execution_count": 16,
     "metadata": {},
     "output_type": "execute_result"
    }
   ],
   "source": [
    "# Calculate Correlations\n",
    "df.corr()"
   ]
  },
  {
   "cell_type": "code",
   "execution_count": 17,
   "id": "4d2452a0",
   "metadata": {},
   "outputs": [
    {
     "data": {
      "image/png": "[encoded data removed]",
      "text/plain": [
       "<Figure size 720x720 with 2 Axes>"
      ]
     },
     "metadata": {
      "needs_background": "light"
     },
     "output_type": "display_data"
    }
   ],
   "source": [
    "import matplotlib.pyplot as plt\n",
    "import seaborn as sns\n",
    "# Plot corr - lighter color closest to 1 perfect correlation; darkest is negative correlation - FLORIDA\n",
    "plt.figure(figsize=(10,10))\n",
    "sns.heatmap(df.corr(), annot=True)\n",
    "plt.show()"
   ]
  },
  {
   "cell_type": "markdown",
   "id": "0e23327c",
   "metadata": {},
   "source": [
    "## **SPLIT THE DATA INTO TRAINING AND TESTING**"
   ]
  },
  {
   "cell_type": "code",
   "execution_count": 18,
   "id": "e2a94dda",
   "metadata": {},
   "outputs": [
    {
     "data": {
      "text/plain": [
       "array(['short_delay', 'long_delay', 'long_delay', 'long_delay',\n",
       "       'long_delay'], dtype=object)"
      ]
     },
     "execution_count": 18,
     "metadata": {},
     "output_type": "execute_result"
    }
   ],
   "source": [
    "# Create our target\n",
    "\n",
    "y = df[\"severity\"].ravel()\n",
    "X = df.drop(columns=\"severity\")\n",
    "y[:5]"
   ]
  },
  {
   "cell_type": "code",
   "execution_count": 19,
   "id": "7a294a9f",
   "metadata": {
    "scrolled": true
   },
   "outputs": [
    {
     "data": {
      "text/html": [
       "<div>\n",
       "<style scoped>\n",
       "    .dataframe tbody tr th:only-of-type {\n",
       "        vertical-align: middle;\n",
       "    }\n",
       "\n",
       "    .dataframe tbody tr th {\n",
       "        vertical-align: top;\n",
       "    }\n",
       "\n",
       "    .dataframe thead th {\n",
       "        text-align: right;\n",
       "    }\n",
       "</style>\n",
       "<table border=\"1\" class=\"dataframe\">\n",
       "  <thead>\n",
       "    <tr style=\"text-align: right;\">\n",
       "      <th></th>\n",
       "      <th>temperature_f</th>\n",
       "      <th>visibility_mi</th>\n",
       "      <th>wind_speed_mph</th>\n",
       "      <th>precipitation_in</th>\n",
       "      <th>weather_condition</th>\n",
       "      <th>sunrise_sunset</th>\n",
       "      <th>classification</th>\n",
       "    </tr>\n",
       "  </thead>\n",
       "  <tbody>\n",
       "    <tr>\n",
       "      <th>count</th>\n",
       "      <td>52755.000000</td>\n",
       "      <td>52755.000000</td>\n",
       "      <td>52755.000000</td>\n",
       "      <td>52755.000000</td>\n",
       "      <td>52755.000000</td>\n",
       "      <td>52755.000000</td>\n",
       "      <td>52755.000000</td>\n",
       "    </tr>\n",
       "    <tr>\n",
       "      <th>mean</th>\n",
       "      <td>76.121789</td>\n",
       "      <td>9.540393</td>\n",
       "      <td>8.217996</td>\n",
       "      <td>0.009111</td>\n",
       "      <td>0.881642</td>\n",
       "      <td>0.686816</td>\n",
       "      <td>0.161672</td>\n",
       "    </tr>\n",
       "    <tr>\n",
       "      <th>std</th>\n",
       "      <td>9.782743</td>\n",
       "      <td>1.658864</td>\n",
       "      <td>4.997418</td>\n",
       "      <td>0.062075</td>\n",
       "      <td>0.323035</td>\n",
       "      <td>0.463793</td>\n",
       "      <td>0.368153</td>\n",
       "    </tr>\n",
       "    <tr>\n",
       "      <th>min</th>\n",
       "      <td>25.000000</td>\n",
       "      <td>0.000000</td>\n",
       "      <td>0.000000</td>\n",
       "      <td>0.000000</td>\n",
       "      <td>0.000000</td>\n",
       "      <td>0.000000</td>\n",
       "      <td>0.000000</td>\n",
       "    </tr>\n",
       "    <tr>\n",
       "      <th>25%</th>\n",
       "      <td>72.000000</td>\n",
       "      <td>10.000000</td>\n",
       "      <td>5.000000</td>\n",
       "      <td>0.000000</td>\n",
       "      <td>1.000000</td>\n",
       "      <td>0.000000</td>\n",
       "      <td>0.000000</td>\n",
       "    </tr>\n",
       "    <tr>\n",
       "      <th>50%</th>\n",
       "      <td>78.000000</td>\n",
       "      <td>10.000000</td>\n",
       "      <td>8.000000</td>\n",
       "      <td>0.000000</td>\n",
       "      <td>1.000000</td>\n",
       "      <td>1.000000</td>\n",
       "      <td>0.000000</td>\n",
       "    </tr>\n",
       "    <tr>\n",
       "      <th>75%</th>\n",
       "      <td>83.000000</td>\n",
       "      <td>10.000000</td>\n",
       "      <td>12.000000</td>\n",
       "      <td>0.000000</td>\n",
       "      <td>1.000000</td>\n",
       "      <td>1.000000</td>\n",
       "      <td>0.000000</td>\n",
       "    </tr>\n",
       "    <tr>\n",
       "      <th>max</th>\n",
       "      <td>102.000000</td>\n",
       "      <td>10.000000</td>\n",
       "      <td>161.000000</td>\n",
       "      <td>2.030000</td>\n",
       "      <td>1.000000</td>\n",
       "      <td>1.000000</td>\n",
       "      <td>1.000000</td>\n",
       "    </tr>\n",
       "  </tbody>\n",
       "</table>\n",
       "</div>"
      ],
      "text/plain": [
       "       temperature_f  visibility_mi  wind_speed_mph  precipitation_in  \\\n",
       "count   52755.000000   52755.000000    52755.000000      52755.000000   \n",
       "mean       76.121789       9.540393        8.217996          0.009111   \n",
       "std         9.782743       1.658864        4.997418          0.062075   \n",
       "min        25.000000       0.000000        0.000000          0.000000   \n",
       "25%        72.000000      10.000000        5.000000          0.000000   \n",
       "50%        78.000000      10.000000        8.000000          0.000000   \n",
       "75%        83.000000      10.000000       12.000000          0.000000   \n",
       "max       102.000000      10.000000      161.000000          2.030000   \n",
       "\n",
       "       weather_condition  sunrise_sunset  classification  \n",
       "count       52755.000000    52755.000000    52755.000000  \n",
       "mean            0.881642        0.686816        0.161672  \n",
       "std             0.323035        0.463793        0.368153  \n",
       "min             0.000000        0.000000        0.000000  \n",
       "25%             1.000000        0.000000        0.000000  \n",
       "50%             1.000000        1.000000        0.000000  \n",
       "75%             1.000000        1.000000        0.000000  \n",
       "max             1.000000        1.000000        1.000000  "
      ]
     },
     "execution_count": 19,
     "metadata": {},
     "output_type": "execute_result"
    }
   ],
   "source": [
    "X.describe()"
   ]
  },
  {
   "cell_type": "code",
   "execution_count": 20,
   "id": "51fab135",
   "metadata": {},
   "outputs": [
    {
     "data": {
      "text/plain": [
       "Counter({'short_delay': 36018, 'long_delay': 3548})"
      ]
     },
     "execution_count": 20,
     "metadata": {},
     "output_type": "execute_result"
    }
   ],
   "source": [
    "from sklearn.model_selection import train_test_split\n",
    "# Splitting into Train and Test sets.\n",
    "X_train, X_test, y_train, y_test = train_test_split(X, y, random_state=78)\n",
    "Counter(y_train)\n",
    "\n"
   ]
  },
  {
   "cell_type": "markdown",
   "id": "f41126c5",
   "metadata": {},
   "source": [
    "### **Random Forest Classifier**"
   ]
  },
  {
   "cell_type": "code",
   "execution_count": 21,
   "id": "55c993c4",
   "metadata": {},
   "outputs": [],
   "source": [
    "from sklearn.preprocessing import StandardScaler\n",
    "# Creating a StandardScaler instance.\n",
    "scaler = StandardScaler()\n",
    "# Fitting the Standard Scaler with the training data.\n",
    "X_scaler = scaler.fit(X_train)\n",
    "\n",
    "# Scaling the data.\n",
    "X_train_scaled = X_scaler.transform(X_train)\n",
    "X_test_scaled = X_scaler.transform(X_test)"
   ]
  },
  {
   "cell_type": "code",
   "execution_count": 22,
   "id": "6cf340ef",
   "metadata": {},
   "outputs": [],
   "source": [
    "from sklearn.ensemble import RandomForestClassifier\n",
    "# Create a random forest classifier.\n",
    "rf_model = RandomForestClassifier(n_estimators=128, random_state=78) \n"
   ]
  },
  {
   "cell_type": "code",
   "execution_count": 23,
   "id": "597ac036",
   "metadata": {},
   "outputs": [],
   "source": [
    "# Fitting the model\n",
    "rf_model = rf_model.fit(X_train_scaled, y_train)"
   ]
  },
  {
   "cell_type": "code",
   "execution_count": 24,
   "id": "f118d201",
   "metadata": {},
   "outputs": [],
   "source": [
    "# Making predictions using the testing data.\n",
    "predictions = rf_model.predict(X_test_scaled)"
   ]
  },
  {
   "cell_type": "code",
   "execution_count": 25,
   "id": "9c2e90dc",
   "metadata": {},
   "outputs": [
    {
     "name": "stdout",
     "output_type": "stream",
     "text": [
      "Accuracy Score : 0.9210705891273031\n"
     ]
    }
   ],
   "source": [
    "from sklearn.metrics import confusion_matrix, accuracy_score, classification_report\n",
    "# Calculating the accuracy score.\n",
    "acc_score = accuracy_score(y_test, predictions)\n",
    "print(f\"Accuracy Score : {acc_score}\")"
   ]
  },
  {
   "cell_type": "code",
   "execution_count": 26,
   "id": "2c6c06ee",
   "metadata": {},
   "outputs": [
    {
     "data": {
      "text/html": [
       "<div>\n",
       "<style scoped>\n",
       "    .dataframe tbody tr th:only-of-type {\n",
       "        vertical-align: middle;\n",
       "    }\n",
       "\n",
       "    .dataframe tbody tr th {\n",
       "        vertical-align: top;\n",
       "    }\n",
       "\n",
       "    .dataframe thead th {\n",
       "        text-align: right;\n",
       "    }\n",
       "</style>\n",
       "<table border=\"1\" class=\"dataframe\">\n",
       "  <thead>\n",
       "    <tr style=\"text-align: right;\">\n",
       "      <th></th>\n",
       "      <th>Predicted long_delay</th>\n",
       "      <th>Predicted short_delay</th>\n",
       "    </tr>\n",
       "  </thead>\n",
       "  <tbody>\n",
       "    <tr>\n",
       "      <th>Actual long_delay</th>\n",
       "      <td>540</td>\n",
       "      <td>612</td>\n",
       "    </tr>\n",
       "    <tr>\n",
       "      <th>Actual short_delay</th>\n",
       "      <td>429</td>\n",
       "      <td>11608</td>\n",
       "    </tr>\n",
       "  </tbody>\n",
       "</table>\n",
       "</div>"
      ],
      "text/plain": [
       "                    Predicted long_delay  Predicted short_delay\n",
       "Actual long_delay                    540                    612\n",
       "Actual short_delay                   429                  11608"
      ]
     },
     "execution_count": 26,
     "metadata": {},
     "output_type": "execute_result"
    }
   ],
   "source": [
    "# Display the confusion matrix - RandomFC\n",
    "cm = confusion_matrix(y_test, predictions)\n",
    "\n",
    "# Create a DataFrame from the confusion matrix.\n",
    "cm_df = pd.DataFrame(\n",
    "    cm, index=[\"Actual long_delay\", \"Actual short_delay\"], columns=[\"Predicted long_delay\", \"Predicted short_delay\"])\n",
    "cm_df"
   ]
  },
  {
   "cell_type": "code",
   "execution_count": 27,
   "id": "0d56ac59",
   "metadata": {
    "scrolled": true
   },
   "outputs": [
    {
     "name": "stdout",
     "output_type": "stream",
     "text": [
      "Classification Report\n",
      "              precision    recall  f1-score   support\n",
      "\n",
      "  long_delay       0.56      0.47      0.51      1152\n",
      " short_delay       0.95      0.96      0.96     12037\n",
      "\n",
      "    accuracy                           0.92     13189\n",
      "   macro avg       0.75      0.72      0.73     13189\n",
      "weighted avg       0.92      0.92      0.92     13189\n",
      "\n"
     ]
    }
   ],
   "source": [
    "# Print the classification report\n",
    "print(\"Classification Report\")\n",
    "print(classification_report(y_test, predictions))\n"
   ]
  },
  {
   "cell_type": "markdown",
   "id": "d4818a5f",
   "metadata": {},
   "source": [
    "### **Ranked Features by Importance**"
   ]
  },
  {
   "cell_type": "code",
   "execution_count": 28,
   "id": "77dd3749",
   "metadata": {},
   "outputs": [
    {
     "data": {
      "text/plain": [
       "array([0.19320376, 0.03465704, 0.14524258, 0.03916592, 0.00713111,\n",
       "       0.02011292, 0.56048666])"
      ]
     },
     "execution_count": 28,
     "metadata": {},
     "output_type": "execute_result"
    }
   ],
   "source": [
    "# Calculate feature importance in the Random Forest model.\n",
    "importances = rf_model.feature_importances_\n",
    "importances"
   ]
  },
  {
   "cell_type": "code",
   "execution_count": 29,
   "id": "60c79ec1",
   "metadata": {},
   "outputs": [
    {
     "data": {
      "text/plain": [
       "[(0.5604866579026069, 'classification'),\n",
       " (0.19320376481703386, 'temperature_f'),\n",
       " (0.1452425800181923, 'wind_speed_mph'),\n",
       " (0.03916591874587397, 'precipitation_in'),\n",
       " (0.03465704107663922, 'visibility_mi'),\n",
       " (0.020112922456667594, 'sunrise_sunset'),\n",
       " (0.007131114982986273, 'weather_condition')]"
      ]
     },
     "execution_count": 29,
     "metadata": {},
     "output_type": "execute_result"
    }
   ],
   "source": [
    "# We can sort the features by their importance. Can try improving model by dropping lower ranked features. \n",
    "sorted(zip(rf_model.feature_importances_, X.columns), reverse=True)"
   ]
  },
  {
   "cell_type": "code",
   "execution_count": 30,
   "id": "ce353233",
   "metadata": {},
   "outputs": [
    {
     "data": {
      "text/html": [
       "<div>\n",
       "<style scoped>\n",
       "    .dataframe tbody tr th:only-of-type {\n",
       "        vertical-align: middle;\n",
       "    }\n",
       "\n",
       "    .dataframe tbody tr th {\n",
       "        vertical-align: top;\n",
       "    }\n",
       "\n",
       "    .dataframe thead th {\n",
       "        text-align: right;\n",
       "    }\n",
       "</style>\n",
       "<table border=\"1\" class=\"dataframe\">\n",
       "  <thead>\n",
       "    <tr style=\"text-align: right;\">\n",
       "      <th></th>\n",
       "      <th>0</th>\n",
       "    </tr>\n",
       "  </thead>\n",
       "  <tbody>\n",
       "    <tr>\n",
       "      <th>0</th>\n",
       "      <td>0.193204</td>\n",
       "    </tr>\n",
       "    <tr>\n",
       "      <th>1</th>\n",
       "      <td>0.034657</td>\n",
       "    </tr>\n",
       "    <tr>\n",
       "      <th>2</th>\n",
       "      <td>0.145243</td>\n",
       "    </tr>\n",
       "    <tr>\n",
       "      <th>3</th>\n",
       "      <td>0.039166</td>\n",
       "    </tr>\n",
       "    <tr>\n",
       "      <th>4</th>\n",
       "      <td>0.007131</td>\n",
       "    </tr>\n",
       "  </tbody>\n",
       "</table>\n",
       "</div>"
      ],
      "text/plain": [
       "          0\n",
       "0  0.193204\n",
       "1  0.034657\n",
       "2  0.145243\n",
       "3  0.039166\n",
       "4  0.007131"
      ]
     },
     "execution_count": 30,
     "metadata": {},
     "output_type": "execute_result"
    }
   ],
   "source": [
    "# Creat dataframe of features ranked\n",
    "export = pd.DataFrame(importances)\n",
    "export.head()"
   ]
  },
  {
   "cell_type": "code",
   "execution_count": 31,
   "id": "3b8590c9",
   "metadata": {},
   "outputs": [],
   "source": [
    "# Creating CSV file for features ranked \n",
    "export.to_csv('FL_Features_ranked.csv')"
   ]
  },
  {
   "cell_type": "code",
   "execution_count": null,
   "id": "b744a456",
   "metadata": {},
   "outputs": [],
   "source": []
  }
 ],
 "metadata": {
  "kernelspec": {
   "display_name": "mlenv",
   "language": "python",
   "name": "mlenv"
  },
  "language_info": {
   "codemirror_mode": {
    "name": "ipython",
    "version": 3
   },
   "file_extension": ".py",
   "mimetype": "text/x-python",
   "name": "python",
   "nbconvert_exporter": "python",
   "pygments_lexer": "ipython3",
   "version": "3.9.7"
  }
 },
 "nbformat": 4,
 "nbformat_minor": 5
}
