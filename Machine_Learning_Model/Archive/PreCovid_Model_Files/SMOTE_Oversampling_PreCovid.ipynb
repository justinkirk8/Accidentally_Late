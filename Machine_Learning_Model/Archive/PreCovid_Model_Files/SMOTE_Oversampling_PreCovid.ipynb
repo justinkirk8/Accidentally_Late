{
 "cells": [
  {
   "cell_type": "code",
   "execution_count": 1,
   "id": "b2781935",
   "metadata": {},
   "outputs": [],
   "source": [
    "import warnings\n",
    "warnings.filterwarnings('ignore')"
   ]
  },
  {
   "cell_type": "code",
   "execution_count": 2,
   "id": "759e095b",
   "metadata": {},
   "outputs": [],
   "source": [
    "import numpy as np\n",
    "import pandas as pd\n",
    "from pathlib import Path\n",
    "from collections import Counter"
   ]
  },
  {
   "cell_type": "code",
   "execution_count": 3,
   "id": "c3a0e1dc",
   "metadata": {},
   "outputs": [],
   "source": [
    "from sklearn.metrics import balanced_accuracy_score\n",
    "from sklearn.metrics import confusion_matrix\n",
    "from imblearn.metrics import classification_report_imbalanced"
   ]
  },
  {
   "cell_type": "code",
   "execution_count": 4,
   "id": "db91a695",
   "metadata": {},
   "outputs": [],
   "source": [
    "columns = [\n",
    "    \"Severity\", \"State\", \"Temperature(F)\", \"Visibility(mi)\", \"Wind_Speed(mph)\", \"Precipitation(in)\", \n",
    "    \"Weather_Condition\", \"Sunrise_Sunset\", \"year\", \"date\"\n",
    "]\n",
    "\n",
    "target = [\"Severity\"]"
   ]
  },
  {
   "cell_type": "code",
   "execution_count": 5,
   "id": "cd61fd2c",
   "metadata": {},
   "outputs": [
    {
     "data": {
      "text/html": [
       "<div>\n",
       "<style scoped>\n",
       "    .dataframe tbody tr th:only-of-type {\n",
       "        vertical-align: middle;\n",
       "    }\n",
       "\n",
       "    .dataframe tbody tr th {\n",
       "        vertical-align: top;\n",
       "    }\n",
       "\n",
       "    .dataframe thead th {\n",
       "        text-align: right;\n",
       "    }\n",
       "</style>\n",
       "<table border=\"1\" class=\"dataframe\">\n",
       "  <thead>\n",
       "    <tr style=\"text-align: right;\">\n",
       "      <th></th>\n",
       "      <th>Severity</th>\n",
       "      <th>State</th>\n",
       "      <th>Temperature(F)</th>\n",
       "      <th>Visibility(mi)</th>\n",
       "      <th>Wind_Speed(mph)</th>\n",
       "      <th>Precipitation(in)</th>\n",
       "      <th>Weather_Condition</th>\n",
       "      <th>Sunrise_Sunset</th>\n",
       "      <th>year</th>\n",
       "      <th>date</th>\n",
       "    </tr>\n",
       "  </thead>\n",
       "  <tbody>\n",
       "    <tr>\n",
       "      <th>0</th>\n",
       "      <td>long_delay</td>\n",
       "      <td>NJ</td>\n",
       "      <td>89.0</td>\n",
       "      <td>10.0</td>\n",
       "      <td>5.0</td>\n",
       "      <td>0.0</td>\n",
       "      <td>clear_weather</td>\n",
       "      <td>Day</td>\n",
       "      <td>2019</td>\n",
       "      <td>10/2/19</td>\n",
       "    </tr>\n",
       "    <tr>\n",
       "      <th>1</th>\n",
       "      <td>long_delay</td>\n",
       "      <td>LA</td>\n",
       "      <td>54.0</td>\n",
       "      <td>10.0</td>\n",
       "      <td>5.0</td>\n",
       "      <td>0.0</td>\n",
       "      <td>clear_weather</td>\n",
       "      <td>Day</td>\n",
       "      <td>2019</td>\n",
       "      <td>11/1/19</td>\n",
       "    </tr>\n",
       "    <tr>\n",
       "      <th>2</th>\n",
       "      <td>long_delay</td>\n",
       "      <td>AZ</td>\n",
       "      <td>41.0</td>\n",
       "      <td>10.0</td>\n",
       "      <td>10.0</td>\n",
       "      <td>0.0</td>\n",
       "      <td>clear_weather</td>\n",
       "      <td>Night</td>\n",
       "      <td>2020</td>\n",
       "      <td>2/16/20</td>\n",
       "    </tr>\n",
       "    <tr>\n",
       "      <th>3</th>\n",
       "      <td>long_delay</td>\n",
       "      <td>TX</td>\n",
       "      <td>79.0</td>\n",
       "      <td>10.0</td>\n",
       "      <td>25.0</td>\n",
       "      <td>0.0</td>\n",
       "      <td>bad_weather</td>\n",
       "      <td>Day</td>\n",
       "      <td>2019</td>\n",
       "      <td>6/4/19</td>\n",
       "    </tr>\n",
       "    <tr>\n",
       "      <th>4</th>\n",
       "      <td>long_delay</td>\n",
       "      <td>VA</td>\n",
       "      <td>37.0</td>\n",
       "      <td>10.0</td>\n",
       "      <td>0.0</td>\n",
       "      <td>0.0</td>\n",
       "      <td>clear_weather</td>\n",
       "      <td>Night</td>\n",
       "      <td>2019</td>\n",
       "      <td>10/19/19</td>\n",
       "    </tr>\n",
       "  </tbody>\n",
       "</table>\n",
       "</div>"
      ],
      "text/plain": [
       "     Severity State  Temperature(F)  Visibility(mi)  Wind_Speed(mph)  \\\n",
       "0  long_delay    NJ            89.0            10.0              5.0   \n",
       "1  long_delay    LA            54.0            10.0              5.0   \n",
       "2  long_delay    AZ            41.0            10.0             10.0   \n",
       "3  long_delay    TX            79.0            10.0             25.0   \n",
       "4  long_delay    VA            37.0            10.0              0.0   \n",
       "\n",
       "   Precipitation(in) Weather_Condition Sunrise_Sunset  year      date  \n",
       "0                0.0     clear_weather            Day  2019   10/2/19  \n",
       "1                0.0     clear_weather            Day  2019   11/1/19  \n",
       "2                0.0     clear_weather          Night  2020   2/16/20  \n",
       "3                0.0       bad_weather            Day  2019    6/4/19  \n",
       "4                0.0     clear_weather          Night  2019  10/19/19  "
      ]
     },
     "execution_count": 5,
     "metadata": {},
     "output_type": "execute_result"
    }
   ],
   "source": [
    "# Load the data\n",
    "file_path = Path('PreCOVID_accidents.csv', index_col=False)\n",
    "df = pd.read_csv(file_path)\n",
    "df = df.loc[:, columns].copy()\n",
    "df.head()"
   ]
  },
  {
   "cell_type": "code",
   "execution_count": 6,
   "id": "1a8ac73c",
   "metadata": {},
   "outputs": [
    {
     "data": {
      "text/plain": [
       "Severity              object\n",
       "State                 object\n",
       "Temperature(F)       float64\n",
       "Visibility(mi)       float64\n",
       "Wind_Speed(mph)      float64\n",
       "Precipitation(in)    float64\n",
       "Weather_Condition     object\n",
       "Sunrise_Sunset        object\n",
       "year                   int64\n",
       "date                  object\n",
       "dtype: object"
      ]
     },
     "execution_count": 6,
     "metadata": {},
     "output_type": "execute_result"
    }
   ],
   "source": [
    "# Check dtypes, features should be float64\n",
    "df.dtypes"
   ]
  },
  {
   "cell_type": "code",
   "execution_count": 7,
   "id": "f02de25b",
   "metadata": {},
   "outputs": [
    {
     "data": {
      "text/plain": [
       "277041"
      ]
     },
     "execution_count": 7,
     "metadata": {},
     "output_type": "execute_result"
    }
   ],
   "source": [
    "# Get the number of rows\n",
    "df.shape[0]"
   ]
  },
  {
   "cell_type": "code",
   "execution_count": 8,
   "id": "317a4513",
   "metadata": {},
   "outputs": [
    {
     "data": {
      "text/html": [
       "<div>\n",
       "<style scoped>\n",
       "    .dataframe tbody tr th:only-of-type {\n",
       "        vertical-align: middle;\n",
       "    }\n",
       "\n",
       "    .dataframe tbody tr th {\n",
       "        vertical-align: top;\n",
       "    }\n",
       "\n",
       "    .dataframe thead th {\n",
       "        text-align: right;\n",
       "    }\n",
       "</style>\n",
       "<table border=\"1\" class=\"dataframe\">\n",
       "  <thead>\n",
       "    <tr style=\"text-align: right;\">\n",
       "      <th></th>\n",
       "      <th>Severity</th>\n",
       "      <th>State</th>\n",
       "      <th>Temperature(F)</th>\n",
       "      <th>Visibility(mi)</th>\n",
       "      <th>Wind_Speed(mph)</th>\n",
       "      <th>Precipitation(in)</th>\n",
       "      <th>Weather_Condition</th>\n",
       "      <th>Sunrise_Sunset</th>\n",
       "      <th>year</th>\n",
       "      <th>date</th>\n",
       "    </tr>\n",
       "  </thead>\n",
       "  <tbody>\n",
       "    <tr>\n",
       "      <th>0</th>\n",
       "      <td>long_delay</td>\n",
       "      <td>NJ</td>\n",
       "      <td>89.0</td>\n",
       "      <td>10.0</td>\n",
       "      <td>5.0</td>\n",
       "      <td>0.0</td>\n",
       "      <td>clear_weather</td>\n",
       "      <td>Day</td>\n",
       "      <td>2019</td>\n",
       "      <td>10/2/19</td>\n",
       "    </tr>\n",
       "    <tr>\n",
       "      <th>1</th>\n",
       "      <td>long_delay</td>\n",
       "      <td>LA</td>\n",
       "      <td>54.0</td>\n",
       "      <td>10.0</td>\n",
       "      <td>5.0</td>\n",
       "      <td>0.0</td>\n",
       "      <td>clear_weather</td>\n",
       "      <td>Day</td>\n",
       "      <td>2019</td>\n",
       "      <td>11/1/19</td>\n",
       "    </tr>\n",
       "    <tr>\n",
       "      <th>2</th>\n",
       "      <td>long_delay</td>\n",
       "      <td>AZ</td>\n",
       "      <td>41.0</td>\n",
       "      <td>10.0</td>\n",
       "      <td>10.0</td>\n",
       "      <td>0.0</td>\n",
       "      <td>clear_weather</td>\n",
       "      <td>Night</td>\n",
       "      <td>2020</td>\n",
       "      <td>2/16/20</td>\n",
       "    </tr>\n",
       "    <tr>\n",
       "      <th>3</th>\n",
       "      <td>long_delay</td>\n",
       "      <td>TX</td>\n",
       "      <td>79.0</td>\n",
       "      <td>10.0</td>\n",
       "      <td>25.0</td>\n",
       "      <td>0.0</td>\n",
       "      <td>bad_weather</td>\n",
       "      <td>Day</td>\n",
       "      <td>2019</td>\n",
       "      <td>6/4/19</td>\n",
       "    </tr>\n",
       "    <tr>\n",
       "      <th>4</th>\n",
       "      <td>long_delay</td>\n",
       "      <td>VA</td>\n",
       "      <td>37.0</td>\n",
       "      <td>10.0</td>\n",
       "      <td>0.0</td>\n",
       "      <td>0.0</td>\n",
       "      <td>clear_weather</td>\n",
       "      <td>Night</td>\n",
       "      <td>2019</td>\n",
       "      <td>10/19/19</td>\n",
       "    </tr>\n",
       "  </tbody>\n",
       "</table>\n",
       "</div>"
      ],
      "text/plain": [
       "     Severity State  Temperature(F)  Visibility(mi)  Wind_Speed(mph)  \\\n",
       "0  long_delay    NJ            89.0            10.0              5.0   \n",
       "1  long_delay    LA            54.0            10.0              5.0   \n",
       "2  long_delay    AZ            41.0            10.0             10.0   \n",
       "3  long_delay    TX            79.0            10.0             25.0   \n",
       "4  long_delay    VA            37.0            10.0              0.0   \n",
       "\n",
       "   Precipitation(in) Weather_Condition Sunrise_Sunset  year      date  \n",
       "0                0.0     clear_weather            Day  2019   10/2/19  \n",
       "1                0.0     clear_weather            Day  2019   11/1/19  \n",
       "2                0.0     clear_weather          Night  2020   2/16/20  \n",
       "3                0.0       bad_weather            Day  2019    6/4/19  \n",
       "4                0.0     clear_weather          Night  2019  10/19/19  "
      ]
     },
     "execution_count": 8,
     "metadata": {},
     "output_type": "execute_result"
    }
   ],
   "source": [
    "# Drop NA rows\n",
    "df = df.dropna(axis=0, how=\"any\")\n",
    "df.head()"
   ]
  },
  {
   "cell_type": "code",
   "execution_count": 9,
   "id": "9cf85e07",
   "metadata": {},
   "outputs": [
    {
     "data": {
      "text/plain": [
       "277041"
      ]
     },
     "execution_count": 9,
     "metadata": {},
     "output_type": "execute_result"
    }
   ],
   "source": [
    "# Check the number of rows again; Data cleanup already dropped NAs\n",
    "df.shape[0]"
   ]
  },
  {
   "cell_type": "code",
   "execution_count": 10,
   "id": "167d2e73",
   "metadata": {},
   "outputs": [
    {
     "name": "stdout",
     "output_type": "stream",
     "text": [
      "short_delay    228852\n",
      "long_delay      48189\n",
      "Name: Severity, dtype: int64\n"
     ]
    }
   ],
   "source": [
    "# Get count of unique values in the 'Severity' column\n",
    "print(df['Severity'].value_counts())"
   ]
  },
  {
   "cell_type": "code",
   "execution_count": 11,
   "id": "9a9d39f4",
   "metadata": {},
   "outputs": [
    {
     "data": {
      "text/html": [
       "<div>\n",
       "<style scoped>\n",
       "    .dataframe tbody tr th:only-of-type {\n",
       "        vertical-align: middle;\n",
       "    }\n",
       "\n",
       "    .dataframe tbody tr th {\n",
       "        vertical-align: top;\n",
       "    }\n",
       "\n",
       "    .dataframe thead th {\n",
       "        text-align: right;\n",
       "    }\n",
       "</style>\n",
       "<table border=\"1\" class=\"dataframe\">\n",
       "  <thead>\n",
       "    <tr style=\"text-align: right;\">\n",
       "      <th></th>\n",
       "      <th>Severity</th>\n",
       "      <th>State</th>\n",
       "      <th>Temperature</th>\n",
       "      <th>Visibility</th>\n",
       "      <th>Wind_Speed</th>\n",
       "      <th>Precipitation</th>\n",
       "      <th>Weather_Condition</th>\n",
       "      <th>Sunrise_Sunset</th>\n",
       "      <th>year</th>\n",
       "      <th>date</th>\n",
       "    </tr>\n",
       "  </thead>\n",
       "  <tbody>\n",
       "    <tr>\n",
       "      <th>0</th>\n",
       "      <td>long_delay</td>\n",
       "      <td>NJ</td>\n",
       "      <td>89.0</td>\n",
       "      <td>10.0</td>\n",
       "      <td>5.0</td>\n",
       "      <td>0.0</td>\n",
       "      <td>clear_weather</td>\n",
       "      <td>Day</td>\n",
       "      <td>2019</td>\n",
       "      <td>10/2/19</td>\n",
       "    </tr>\n",
       "    <tr>\n",
       "      <th>1</th>\n",
       "      <td>long_delay</td>\n",
       "      <td>LA</td>\n",
       "      <td>54.0</td>\n",
       "      <td>10.0</td>\n",
       "      <td>5.0</td>\n",
       "      <td>0.0</td>\n",
       "      <td>clear_weather</td>\n",
       "      <td>Day</td>\n",
       "      <td>2019</td>\n",
       "      <td>11/1/19</td>\n",
       "    </tr>\n",
       "    <tr>\n",
       "      <th>2</th>\n",
       "      <td>long_delay</td>\n",
       "      <td>AZ</td>\n",
       "      <td>41.0</td>\n",
       "      <td>10.0</td>\n",
       "      <td>10.0</td>\n",
       "      <td>0.0</td>\n",
       "      <td>clear_weather</td>\n",
       "      <td>Night</td>\n",
       "      <td>2020</td>\n",
       "      <td>2/16/20</td>\n",
       "    </tr>\n",
       "    <tr>\n",
       "      <th>3</th>\n",
       "      <td>long_delay</td>\n",
       "      <td>TX</td>\n",
       "      <td>79.0</td>\n",
       "      <td>10.0</td>\n",
       "      <td>25.0</td>\n",
       "      <td>0.0</td>\n",
       "      <td>bad_weather</td>\n",
       "      <td>Day</td>\n",
       "      <td>2019</td>\n",
       "      <td>6/4/19</td>\n",
       "    </tr>\n",
       "    <tr>\n",
       "      <th>4</th>\n",
       "      <td>long_delay</td>\n",
       "      <td>VA</td>\n",
       "      <td>37.0</td>\n",
       "      <td>10.0</td>\n",
       "      <td>0.0</td>\n",
       "      <td>0.0</td>\n",
       "      <td>clear_weather</td>\n",
       "      <td>Night</td>\n",
       "      <td>2019</td>\n",
       "      <td>10/19/19</td>\n",
       "    </tr>\n",
       "  </tbody>\n",
       "</table>\n",
       "</div>"
      ],
      "text/plain": [
       "     Severity State  Temperature  Visibility  Wind_Speed  Precipitation  \\\n",
       "0  long_delay    NJ         89.0        10.0         5.0            0.0   \n",
       "1  long_delay    LA         54.0        10.0         5.0            0.0   \n",
       "2  long_delay    AZ         41.0        10.0        10.0            0.0   \n",
       "3  long_delay    TX         79.0        10.0        25.0            0.0   \n",
       "4  long_delay    VA         37.0        10.0         0.0            0.0   \n",
       "\n",
       "  Weather_Condition Sunrise_Sunset  year      date  \n",
       "0     clear_weather            Day  2019   10/2/19  \n",
       "1     clear_weather            Day  2019   11/1/19  \n",
       "2     clear_weather          Night  2020   2/16/20  \n",
       "3       bad_weather            Day  2019    6/4/19  \n",
       "4     clear_weather          Night  2019  10/19/19  "
      ]
     },
     "execution_count": 11,
     "metadata": {},
     "output_type": "execute_result"
    }
   ],
   "source": [
    "# Rename columns to get rid of () with measurement for plotting\n",
    "df.rename(columns = {'Temperature(F)':'Temperature', 'Wind_Speed(mph)':'Wind_Speed', 'Precipitation(in)':'Precipitation', 'Visibility(mi)': 'Visibility'}, inplace = True)\n",
    "df.head()                          "
   ]
  },
  {
   "cell_type": "code",
   "execution_count": 12,
   "id": "3b2173f6",
   "metadata": {},
   "outputs": [
    {
     "data": {
      "text/html": [
       "<div>\n",
       "<style scoped>\n",
       "    .dataframe tbody tr th:only-of-type {\n",
       "        vertical-align: middle;\n",
       "    }\n",
       "\n",
       "    .dataframe tbody tr th {\n",
       "        vertical-align: top;\n",
       "    }\n",
       "\n",
       "    .dataframe thead th {\n",
       "        text-align: right;\n",
       "    }\n",
       "</style>\n",
       "<table border=\"1\" class=\"dataframe\">\n",
       "  <thead>\n",
       "    <tr style=\"text-align: right;\">\n",
       "      <th></th>\n",
       "      <th>Severity</th>\n",
       "      <th>Temperature</th>\n",
       "      <th>Visibility</th>\n",
       "      <th>Wind_Speed</th>\n",
       "      <th>Precipitation</th>\n",
       "      <th>Weather_Condition</th>\n",
       "      <th>Sunrise_Sunset</th>\n",
       "    </tr>\n",
       "  </thead>\n",
       "  <tbody>\n",
       "    <tr>\n",
       "      <th>0</th>\n",
       "      <td>long_delay</td>\n",
       "      <td>89.0</td>\n",
       "      <td>10.0</td>\n",
       "      <td>5.0</td>\n",
       "      <td>0.0</td>\n",
       "      <td>clear_weather</td>\n",
       "      <td>Day</td>\n",
       "    </tr>\n",
       "    <tr>\n",
       "      <th>1</th>\n",
       "      <td>long_delay</td>\n",
       "      <td>54.0</td>\n",
       "      <td>10.0</td>\n",
       "      <td>5.0</td>\n",
       "      <td>0.0</td>\n",
       "      <td>clear_weather</td>\n",
       "      <td>Day</td>\n",
       "    </tr>\n",
       "    <tr>\n",
       "      <th>2</th>\n",
       "      <td>long_delay</td>\n",
       "      <td>41.0</td>\n",
       "      <td>10.0</td>\n",
       "      <td>10.0</td>\n",
       "      <td>0.0</td>\n",
       "      <td>clear_weather</td>\n",
       "      <td>Night</td>\n",
       "    </tr>\n",
       "    <tr>\n",
       "      <th>3</th>\n",
       "      <td>long_delay</td>\n",
       "      <td>79.0</td>\n",
       "      <td>10.0</td>\n",
       "      <td>25.0</td>\n",
       "      <td>0.0</td>\n",
       "      <td>bad_weather</td>\n",
       "      <td>Day</td>\n",
       "    </tr>\n",
       "    <tr>\n",
       "      <th>4</th>\n",
       "      <td>long_delay</td>\n",
       "      <td>37.0</td>\n",
       "      <td>10.0</td>\n",
       "      <td>0.0</td>\n",
       "      <td>0.0</td>\n",
       "      <td>clear_weather</td>\n",
       "      <td>Night</td>\n",
       "    </tr>\n",
       "  </tbody>\n",
       "</table>\n",
       "</div>"
      ],
      "text/plain": [
       "     Severity  Temperature  Visibility  Wind_Speed  Precipitation  \\\n",
       "0  long_delay         89.0        10.0         5.0            0.0   \n",
       "1  long_delay         54.0        10.0         5.0            0.0   \n",
       "2  long_delay         41.0        10.0        10.0            0.0   \n",
       "3  long_delay         79.0        10.0        25.0            0.0   \n",
       "4  long_delay         37.0        10.0         0.0            0.0   \n",
       "\n",
       "  Weather_Condition Sunrise_Sunset  \n",
       "0     clear_weather            Day  \n",
       "1     clear_weather            Day  \n",
       "2     clear_weather          Night  \n",
       "3       bad_weather            Day  \n",
       "4     clear_weather          Night  "
      ]
     },
     "execution_count": 12,
     "metadata": {},
     "output_type": "execute_result"
    }
   ],
   "source": [
    "# Drop State, year and date columns to reduce factors for NOW\n",
    "df.drop('State', axis=1, inplace=True)\n",
    "df.drop('date', axis=1, inplace=True)\n",
    "df.drop('year', axis=1, inplace=True)\n",
    "df.head()"
   ]
  },
  {
   "cell_type": "code",
   "execution_count": 13,
   "id": "c741d9a4",
   "metadata": {
    "scrolled": true
   },
   "outputs": [
    {
     "data": {
      "text/html": [
       "<div>\n",
       "<style scoped>\n",
       "    .dataframe tbody tr th:only-of-type {\n",
       "        vertical-align: middle;\n",
       "    }\n",
       "\n",
       "    .dataframe tbody tr th {\n",
       "        vertical-align: top;\n",
       "    }\n",
       "\n",
       "    .dataframe thead th {\n",
       "        text-align: right;\n",
       "    }\n",
       "</style>\n",
       "<table border=\"1\" class=\"dataframe\">\n",
       "  <thead>\n",
       "    <tr style=\"text-align: right;\">\n",
       "      <th></th>\n",
       "      <th>Severity</th>\n",
       "      <th>Temperature</th>\n",
       "      <th>Visibility</th>\n",
       "      <th>Wind_Speed</th>\n",
       "      <th>Precipitation</th>\n",
       "      <th>Weather_Condition</th>\n",
       "      <th>Sunrise_Sunset</th>\n",
       "    </tr>\n",
       "  </thead>\n",
       "  <tbody>\n",
       "    <tr>\n",
       "      <th>0</th>\n",
       "      <td>long_delay</td>\n",
       "      <td>89.0</td>\n",
       "      <td>10.0</td>\n",
       "      <td>5.0</td>\n",
       "      <td>0.0</td>\n",
       "      <td>1</td>\n",
       "      <td>1</td>\n",
       "    </tr>\n",
       "    <tr>\n",
       "      <th>1</th>\n",
       "      <td>long_delay</td>\n",
       "      <td>54.0</td>\n",
       "      <td>10.0</td>\n",
       "      <td>5.0</td>\n",
       "      <td>0.0</td>\n",
       "      <td>1</td>\n",
       "      <td>1</td>\n",
       "    </tr>\n",
       "    <tr>\n",
       "      <th>2</th>\n",
       "      <td>long_delay</td>\n",
       "      <td>41.0</td>\n",
       "      <td>10.0</td>\n",
       "      <td>10.0</td>\n",
       "      <td>0.0</td>\n",
       "      <td>1</td>\n",
       "      <td>0</td>\n",
       "    </tr>\n",
       "    <tr>\n",
       "      <th>3</th>\n",
       "      <td>long_delay</td>\n",
       "      <td>79.0</td>\n",
       "      <td>10.0</td>\n",
       "      <td>25.0</td>\n",
       "      <td>0.0</td>\n",
       "      <td>0</td>\n",
       "      <td>1</td>\n",
       "    </tr>\n",
       "    <tr>\n",
       "      <th>4</th>\n",
       "      <td>long_delay</td>\n",
       "      <td>37.0</td>\n",
       "      <td>10.0</td>\n",
       "      <td>0.0</td>\n",
       "      <td>0.0</td>\n",
       "      <td>1</td>\n",
       "      <td>0</td>\n",
       "    </tr>\n",
       "  </tbody>\n",
       "</table>\n",
       "</div>"
      ],
      "text/plain": [
       "     Severity  Temperature  Visibility  Wind_Speed  Precipitation  \\\n",
       "0  long_delay         89.0        10.0         5.0            0.0   \n",
       "1  long_delay         54.0        10.0         5.0            0.0   \n",
       "2  long_delay         41.0        10.0        10.0            0.0   \n",
       "3  long_delay         79.0        10.0        25.0            0.0   \n",
       "4  long_delay         37.0        10.0         0.0            0.0   \n",
       "\n",
       "   Weather_Condition  Sunrise_Sunset  \n",
       "0                  1               1  \n",
       "1                  1               1  \n",
       "2                  1               0  \n",
       "3                  0               1  \n",
       "4                  1               0  "
      ]
     },
     "execution_count": 13,
     "metadata": {},
     "output_type": "execute_result"
    }
   ],
   "source": [
    "# Transform Sunrise_Sunset and Weather_Condition to binary input\n",
    "df.Sunrise_Sunset = df.Sunrise_Sunset.replace({'Day': 1, 'Night': 0}) \n",
    "df.Weather_Condition = df.Weather_Condition.replace({'clear_weather': 1, 'bad_weather': 0})\n",
    "df.head()"
   ]
  },
  {
   "cell_type": "code",
   "execution_count": 14,
   "id": "3ccc1dc0",
   "metadata": {},
   "outputs": [
    {
     "name": "stdout",
     "output_type": "stream",
     "text": [
      "1    228911\n",
      "0     48130\n",
      "Name: Weather_Condition, dtype: int64\n"
     ]
    }
   ],
   "source": [
    "# Get count of unique values in the 'Weather_Condition' column\n",
    "print(df['Weather_Condition'].value_counts())"
   ]
  },
  {
   "cell_type": "code",
   "execution_count": 15,
   "id": "344ad468",
   "metadata": {},
   "outputs": [
    {
     "data": {
      "text/html": [
       "<div>\n",
       "<style scoped>\n",
       "    .dataframe tbody tr th:only-of-type {\n",
       "        vertical-align: middle;\n",
       "    }\n",
       "\n",
       "    .dataframe tbody tr th {\n",
       "        vertical-align: top;\n",
       "    }\n",
       "\n",
       "    .dataframe thead th {\n",
       "        text-align: right;\n",
       "    }\n",
       "</style>\n",
       "<table border=\"1\" class=\"dataframe\">\n",
       "  <thead>\n",
       "    <tr style=\"text-align: right;\">\n",
       "      <th></th>\n",
       "      <th>Temperature</th>\n",
       "      <th>Visibility</th>\n",
       "      <th>Wind_Speed</th>\n",
       "      <th>Precipitation</th>\n",
       "      <th>Weather_Condition</th>\n",
       "      <th>Sunrise_Sunset</th>\n",
       "    </tr>\n",
       "  </thead>\n",
       "  <tbody>\n",
       "    <tr>\n",
       "      <th>Temperature</th>\n",
       "      <td>1.000000</td>\n",
       "      <td>0.288617</td>\n",
       "      <td>-0.008902</td>\n",
       "      <td>-0.028550</td>\n",
       "      <td>0.282423</td>\n",
       "      <td>0.296735</td>\n",
       "    </tr>\n",
       "    <tr>\n",
       "      <th>Visibility</th>\n",
       "      <td>0.288617</td>\n",
       "      <td>1.000000</td>\n",
       "      <td>-0.017753</td>\n",
       "      <td>-0.198338</td>\n",
       "      <td>0.606688</td>\n",
       "      <td>0.057301</td>\n",
       "    </tr>\n",
       "    <tr>\n",
       "      <th>Wind_Speed</th>\n",
       "      <td>-0.008902</td>\n",
       "      <td>-0.017753</td>\n",
       "      <td>1.000000</td>\n",
       "      <td>0.056201</td>\n",
       "      <td>-0.119258</td>\n",
       "      <td>0.172319</td>\n",
       "    </tr>\n",
       "    <tr>\n",
       "      <th>Precipitation</th>\n",
       "      <td>-0.028550</td>\n",
       "      <td>-0.198338</td>\n",
       "      <td>0.056201</td>\n",
       "      <td>1.000000</td>\n",
       "      <td>-0.270177</td>\n",
       "      <td>-0.011266</td>\n",
       "    </tr>\n",
       "    <tr>\n",
       "      <th>Weather_Condition</th>\n",
       "      <td>0.282423</td>\n",
       "      <td>0.606688</td>\n",
       "      <td>-0.119258</td>\n",
       "      <td>-0.270177</td>\n",
       "      <td>1.000000</td>\n",
       "      <td>0.039278</td>\n",
       "    </tr>\n",
       "    <tr>\n",
       "      <th>Sunrise_Sunset</th>\n",
       "      <td>0.296735</td>\n",
       "      <td>0.057301</td>\n",
       "      <td>0.172319</td>\n",
       "      <td>-0.011266</td>\n",
       "      <td>0.039278</td>\n",
       "      <td>1.000000</td>\n",
       "    </tr>\n",
       "  </tbody>\n",
       "</table>\n",
       "</div>"
      ],
      "text/plain": [
       "                   Temperature  Visibility  Wind_Speed  Precipitation  \\\n",
       "Temperature           1.000000    0.288617   -0.008902      -0.028550   \n",
       "Visibility            0.288617    1.000000   -0.017753      -0.198338   \n",
       "Wind_Speed           -0.008902   -0.017753    1.000000       0.056201   \n",
       "Precipitation        -0.028550   -0.198338    0.056201       1.000000   \n",
       "Weather_Condition     0.282423    0.606688   -0.119258      -0.270177   \n",
       "Sunrise_Sunset        0.296735    0.057301    0.172319      -0.011266   \n",
       "\n",
       "                   Weather_Condition  Sunrise_Sunset  \n",
       "Temperature                 0.282423        0.296735  \n",
       "Visibility                  0.606688        0.057301  \n",
       "Wind_Speed                 -0.119258        0.172319  \n",
       "Precipitation              -0.270177       -0.011266  \n",
       "Weather_Condition           1.000000        0.039278  \n",
       "Sunrise_Sunset              0.039278        1.000000  "
      ]
     },
     "execution_count": 15,
     "metadata": {},
     "output_type": "execute_result"
    }
   ],
   "source": [
    "# Calculate Correlations\n",
    "df.corr()"
   ]
  },
  {
   "cell_type": "markdown",
   "id": "0e23327c",
   "metadata": {},
   "source": [
    "## **SPLIT THE DATA INTO TRAINING AND TESTING - PreCOVID YEARS**"
   ]
  },
  {
   "cell_type": "code",
   "execution_count": 16,
   "id": "e2a94dda",
   "metadata": {},
   "outputs": [],
   "source": [
    "# Create our target\n",
    "y = df[\"Severity\"]\n",
    "X = df.drop(columns=\"Severity\")"
   ]
  },
  {
   "cell_type": "code",
   "execution_count": 17,
   "id": "7a294a9f",
   "metadata": {
    "scrolled": true
   },
   "outputs": [
    {
     "data": {
      "text/html": [
       "<div>\n",
       "<style scoped>\n",
       "    .dataframe tbody tr th:only-of-type {\n",
       "        vertical-align: middle;\n",
       "    }\n",
       "\n",
       "    .dataframe tbody tr th {\n",
       "        vertical-align: top;\n",
       "    }\n",
       "\n",
       "    .dataframe thead th {\n",
       "        text-align: right;\n",
       "    }\n",
       "</style>\n",
       "<table border=\"1\" class=\"dataframe\">\n",
       "  <thead>\n",
       "    <tr style=\"text-align: right;\">\n",
       "      <th></th>\n",
       "      <th>Temperature</th>\n",
       "      <th>Visibility</th>\n",
       "      <th>Wind_Speed</th>\n",
       "      <th>Precipitation</th>\n",
       "      <th>Weather_Condition</th>\n",
       "      <th>Sunrise_Sunset</th>\n",
       "    </tr>\n",
       "  </thead>\n",
       "  <tbody>\n",
       "    <tr>\n",
       "      <th>count</th>\n",
       "      <td>277041.000000</td>\n",
       "      <td>277041.000000</td>\n",
       "      <td>277041.000000</td>\n",
       "      <td>277041.000000</td>\n",
       "      <td>277041.000000</td>\n",
       "      <td>277041.000000</td>\n",
       "    </tr>\n",
       "    <tr>\n",
       "      <th>mean</th>\n",
       "      <td>58.705572</td>\n",
       "      <td>8.871667</td>\n",
       "      <td>6.973080</td>\n",
       "      <td>0.006797</td>\n",
       "      <td>0.826271</td>\n",
       "      <td>0.656267</td>\n",
       "    </tr>\n",
       "    <tr>\n",
       "      <th>std</th>\n",
       "      <td>18.713722</td>\n",
       "      <td>3.047073</td>\n",
       "      <td>5.532183</td>\n",
       "      <td>0.047183</td>\n",
       "      <td>0.378877</td>\n",
       "      <td>0.474954</td>\n",
       "    </tr>\n",
       "    <tr>\n",
       "      <th>min</th>\n",
       "      <td>-27.000000</td>\n",
       "      <td>0.000000</td>\n",
       "      <td>0.000000</td>\n",
       "      <td>0.000000</td>\n",
       "      <td>0.000000</td>\n",
       "      <td>0.000000</td>\n",
       "    </tr>\n",
       "    <tr>\n",
       "      <th>25%</th>\n",
       "      <td>47.000000</td>\n",
       "      <td>10.000000</td>\n",
       "      <td>3.000000</td>\n",
       "      <td>0.000000</td>\n",
       "      <td>1.000000</td>\n",
       "      <td>0.000000</td>\n",
       "    </tr>\n",
       "    <tr>\n",
       "      <th>50%</th>\n",
       "      <td>60.000000</td>\n",
       "      <td>10.000000</td>\n",
       "      <td>6.000000</td>\n",
       "      <td>0.000000</td>\n",
       "      <td>1.000000</td>\n",
       "      <td>1.000000</td>\n",
       "    </tr>\n",
       "    <tr>\n",
       "      <th>75%</th>\n",
       "      <td>72.000000</td>\n",
       "      <td>10.000000</td>\n",
       "      <td>10.000000</td>\n",
       "      <td>0.000000</td>\n",
       "      <td>1.000000</td>\n",
       "      <td>1.000000</td>\n",
       "    </tr>\n",
       "    <tr>\n",
       "      <th>max</th>\n",
       "      <td>113.000000</td>\n",
       "      <td>90.000000</td>\n",
       "      <td>169.000000</td>\n",
       "      <td>9.990000</td>\n",
       "      <td>1.000000</td>\n",
       "      <td>1.000000</td>\n",
       "    </tr>\n",
       "  </tbody>\n",
       "</table>\n",
       "</div>"
      ],
      "text/plain": [
       "         Temperature     Visibility     Wind_Speed  Precipitation  \\\n",
       "count  277041.000000  277041.000000  277041.000000  277041.000000   \n",
       "mean       58.705572       8.871667       6.973080       0.006797   \n",
       "std        18.713722       3.047073       5.532183       0.047183   \n",
       "min       -27.000000       0.000000       0.000000       0.000000   \n",
       "25%        47.000000      10.000000       3.000000       0.000000   \n",
       "50%        60.000000      10.000000       6.000000       0.000000   \n",
       "75%        72.000000      10.000000      10.000000       0.000000   \n",
       "max       113.000000      90.000000     169.000000       9.990000   \n",
       "\n",
       "       Weather_Condition  Sunrise_Sunset  \n",
       "count      277041.000000   277041.000000  \n",
       "mean            0.826271        0.656267  \n",
       "std             0.378877        0.474954  \n",
       "min             0.000000        0.000000  \n",
       "25%             1.000000        0.000000  \n",
       "50%             1.000000        1.000000  \n",
       "75%             1.000000        1.000000  \n",
       "max             1.000000        1.000000  "
      ]
     },
     "execution_count": 17,
     "metadata": {},
     "output_type": "execute_result"
    }
   ],
   "source": [
    "X.describe()"
   ]
  },
  {
   "cell_type": "code",
   "execution_count": 18,
   "id": "8520ff69",
   "metadata": {},
   "outputs": [
    {
     "data": {
      "text/plain": [
       "short_delay    228852\n",
       "long_delay      48189\n",
       "Name: Severity, dtype: int64"
      ]
     },
     "execution_count": 18,
     "metadata": {},
     "output_type": "execute_result"
    }
   ],
   "source": [
    "# Check the balance of our target values\n",
    "y.value_counts()"
   ]
  },
  {
   "cell_type": "code",
   "execution_count": 19,
   "id": "51fab135",
   "metadata": {},
   "outputs": [
    {
     "data": {
      "text/plain": [
       "Counter({'short_delay': 171638, 'long_delay': 36142})"
      ]
     },
     "execution_count": 19,
     "metadata": {},
     "output_type": "execute_result"
    }
   ],
   "source": [
    "from sklearn.model_selection import train_test_split\n",
    "X_train, X_test, y_train, y_test = train_test_split(X, y, random_state=1, stratify=y)\n",
    "Counter(y_train)"
   ]
  },
  {
   "cell_type": "markdown",
   "id": "f41126c5",
   "metadata": {},
   "source": [
    "### **SMOTE Oversampling - PreCovid Years**"
   ]
  },
  {
   "cell_type": "code",
   "execution_count": 20,
   "id": "c321c380",
   "metadata": {},
   "outputs": [
    {
     "data": {
      "text/plain": [
       "Counter({'short_delay': 171638, 'long_delay': 171638})"
      ]
     },
     "execution_count": 20,
     "metadata": {},
     "output_type": "execute_result"
    }
   ],
   "source": [
    "# Resample the training data with SMOTE\n",
    "\n",
    "from imblearn.over_sampling import SMOTE\n",
    "X_resampled, y_resampled = SMOTE(random_state=1,\n",
    "sampling_strategy='auto').fit_resample(\n",
    "   X_train, y_train)\n",
    "Counter(y_resampled)"
   ]
  },
  {
   "cell_type": "code",
   "execution_count": 22,
   "id": "1acd66d4",
   "metadata": {},
   "outputs": [
    {
     "data": {
      "text/plain": [
       "LogisticRegression(random_state=1)"
      ]
     },
     "execution_count": 22,
     "metadata": {},
     "output_type": "execute_result"
    }
   ],
   "source": [
    "# Train the Logistic Regression model using the resampled data\n",
    "from sklearn.linear_model import LogisticRegression\n",
    "model = LogisticRegression(solver='lbfgs', random_state=1)\n",
    "model.fit(X_resampled, y_resampled)"
   ]
  },
  {
   "cell_type": "code",
   "execution_count": 23,
   "id": "8ea688a4",
   "metadata": {},
   "outputs": [
    {
     "data": {
      "text/plain": [
       "0.5650504024291036"
      ]
     },
     "execution_count": 23,
     "metadata": {},
     "output_type": "execute_result"
    }
   ],
   "source": [
    "# Calculated the balanced accuracy score\n",
    "\n",
    "y_pred = model.predict(X_test)\n",
    "balanced_accuracy_score(y_test, y_pred)"
   ]
  },
  {
   "cell_type": "code",
   "execution_count": 24,
   "id": "2c6c06ee",
   "metadata": {},
   "outputs": [
    {
     "data": {
      "text/html": [
       "<div>\n",
       "<style scoped>\n",
       "    .dataframe tbody tr th:only-of-type {\n",
       "        vertical-align: middle;\n",
       "    }\n",
       "\n",
       "    .dataframe tbody tr th {\n",
       "        vertical-align: top;\n",
       "    }\n",
       "\n",
       "    .dataframe thead th {\n",
       "        text-align: right;\n",
       "    }\n",
       "</style>\n",
       "<table border=\"1\" class=\"dataframe\">\n",
       "  <thead>\n",
       "    <tr style=\"text-align: right;\">\n",
       "      <th></th>\n",
       "      <th>Predicted long_delay</th>\n",
       "      <th>Predicted short_delay</th>\n",
       "    </tr>\n",
       "  </thead>\n",
       "  <tbody>\n",
       "    <tr>\n",
       "      <th>Actual long_delay</th>\n",
       "      <td>6398</td>\n",
       "      <td>5649</td>\n",
       "    </tr>\n",
       "    <tr>\n",
       "      <th>Actual short_delay</th>\n",
       "      <td>22942</td>\n",
       "      <td>34272</td>\n",
       "    </tr>\n",
       "  </tbody>\n",
       "</table>\n",
       "</div>"
      ],
      "text/plain": [
       "                    Predicted long_delay  Predicted short_delay\n",
       "Actual long_delay                   6398                   5649\n",
       "Actual short_delay                 22942                  34272"
      ]
     },
     "execution_count": 24,
     "metadata": {},
     "output_type": "execute_result"
    }
   ],
   "source": [
    "# Display the confusion matrix\n",
    "cm = confusion_matrix(y_test, y_pred)\n",
    "\n",
    "# Create a DataFrame from the confusion matrix.\n",
    "cm_df = pd.DataFrame(\n",
    "    cm, index=[\"Actual long_delay\", \"Actual short_delay\"], columns=[\"Predicted long_delay\", \"Predicted short_delay\"])\n",
    "cm_df"
   ]
  },
  {
   "cell_type": "code",
   "execution_count": 25,
   "id": "0d56ac59",
   "metadata": {},
   "outputs": [
    {
     "name": "stdout",
     "output_type": "stream",
     "text": [
      "                   pre       rec       spe        f1       geo       iba       sup\n",
      "\n",
      " long_delay       0.22      0.53      0.60      0.31      0.56      0.32     12047\n",
      "short_delay       0.86      0.60      0.53      0.71      0.56      0.32     57214\n",
      "\n",
      "avg / total       0.75      0.59      0.54      0.64      0.56      0.32     69261\n",
      "\n"
     ]
    }
   ],
   "source": [
    "# Print the imbalanced classification report\n",
    "\n",
    "print(classification_report_imbalanced(y_test, y_pred))"
   ]
  },
  {
   "cell_type": "code",
   "execution_count": null,
   "id": "bd09d099",
   "metadata": {},
   "outputs": [],
   "source": []
  }
 ],
 "metadata": {
  "kernelspec": {
   "display_name": "mlenv",
   "language": "python",
   "name": "mlenv"
  },
  "language_info": {
   "codemirror_mode": {
    "name": "ipython",
    "version": 3
   },
   "file_extension": ".py",
   "mimetype": "text/x-python",
   "name": "python",
   "nbconvert_exporter": "python",
   "pygments_lexer": "ipython3",
   "version": "3.9.7"
  }
 },
 "nbformat": 4,
 "nbformat_minor": 5
}
